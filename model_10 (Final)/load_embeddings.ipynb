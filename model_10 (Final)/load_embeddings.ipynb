{
 "cells": [
  {
   "cell_type": "markdown",
   "metadata": {},
   "source": [
    "## Load Embeddings\n",
    "This is an auxiliar model to load the info to Pinecone"
   ]
  },
  {
   "cell_type": "code",
   "execution_count": 1,
   "metadata": {},
   "outputs": [],
   "source": [
    "import os\n",
    "import openai\n",
    "from streamlit_extras.add_vertical_space import add_vertical_space\n",
    "from langchain.text_splitter import RecursiveCharacterTextSplitter\n",
    "from langchain.embeddings.openai import OpenAIEmbeddings\n",
    "from langchain.llms import OpenAI\n",
    "from langchain.chains.question_answering import load_qa_chain\n",
    "from langchain.callbacks import get_openai_callback\n",
    "from langchain.embeddings import HuggingFaceHubEmbeddings\n",
    "from langchain_pinecone import Pinecone\n",
    "from dotenv import load_dotenv\n",
    "\n",
    "load_dotenv('.env')\n",
    "\n",
    "index_name = 'thesis-model-1'\n",
    "openai.api_base = os.getenv('OPENAI_ENDPOINT')\n",
    "openai.api_key = os.getenv('OPENAI_API_KEY')\n",
    "openai.api_version = \"2023-09-15-preview\"\n",
    "llm_model = 'gpt-35-turbo-jdrios'\n",
    "emb_model = 'text-embedding-ada-002-jdrios'"
   ]
  },
  {
   "cell_type": "code",
   "execution_count": 2,
   "metadata": {},
   "outputs": [],
   "source": [
    "from langchain_community.document_loaders import WebBaseLoader\n",
    "loader = WebBaseLoader([\n",
    "    \"https://www.leal.co/usuarios\",\n",
    "    \"https://www.leal.co/puntos\",\n",
    "    \"https://www.leal.co/leal-coins\"\n",
    "])\n",
    "documents = loader.load()"
   ]
  },
  {
   "cell_type": "code",
   "execution_count": 3,
   "metadata": {},
   "outputs": [
    {
     "data": {
      "text/plain": [
       "{'source': 'https://www.leal.co/puntos',\n",
       " 'title': 'Tus puntos se convierten en premios',\n",
       " 'description': 'Tenemos cientos de comercios donde ganas premios por hacer lo de siempre: disfrutar en tus marcas favoritas.',\n",
       " 'language': 'No language found.'}"
      ]
     },
     "execution_count": 3,
     "metadata": {},
     "output_type": "execute_result"
    }
   ],
   "source": [
    "documents[1].metadata"
   ]
  },
  {
   "cell_type": "code",
   "execution_count": 4,
   "metadata": {},
   "outputs": [],
   "source": [
    "from langchain.text_splitter import RecursiveCharacterTextSplitter\n",
    "\n",
    "text_splitter = RecursiveCharacterTextSplitter(\n",
    "    chunk_size = 700,\n",
    "    chunk_overlap = 50\n",
    ")\n",
    "\n",
    "documents = text_splitter.split_documents(documents)"
   ]
  },
  {
   "cell_type": "code",
   "execution_count": 5,
   "metadata": {},
   "outputs": [
    {
     "data": {
      "text/plain": [
       "Document(page_content='Usuarios Leal, puntos y Leal Coins', metadata={'source': 'https://www.leal.co/usuarios', 'title': 'Usuarios Leal, puntos y Leal Coins', 'description': 'Los puntos puedes redimirlos por premios exclusivos en la marca en la que acumulas, los Leal Coins son universales y puedes usarlos en miles de marcas físicas u online que tenemos para ti.', 'language': 'No language found.'})"
      ]
     },
     "execution_count": 5,
     "metadata": {},
     "output_type": "execute_result"
    }
   ],
   "source": [
    "documents[0]"
   ]
  },
  {
   "cell_type": "code",
   "execution_count": 6,
   "metadata": {},
   "outputs": [],
   "source": [
    "# # Computing Embeddings (with Hughing Face)\n",
    "# emb_model = \"sentence-transformers/all-mpnet-base-v2\"\n",
    "# embeddings = HuggingFaceHubEmbeddings(repo_id=emb_model,\n",
    "#                                         huggingfacehub_api_token=os.getenv('HUGGINGFACEHUB_API_TOKEN'))\n",
    "\n",
    "# # Store the embeddings\n",
    "\n",
    "# vector_store = PineconeVectorStore.from_documents(documents, embeddings, index_name=index_name)"
   ]
  },
  {
   "cell_type": "code",
   "execution_count": 9,
   "metadata": {},
   "outputs": [],
   "source": [
    "# Computing Embeddings (with OpenAI).OpenAI embeddings has 1536 dimensions\n",
    "from langchain_openai import AzureOpenAIEmbeddings\n",
    "from langchain_pinecone import PineconeVectorStore\n",
    "\n",
    "embeddings = AzureOpenAIEmbeddings(\n",
    "    azure_deployment=emb_model,\n",
    "    azure_endpoint=os.getenv('OPENAI_ENDPOINT'),\n",
    ")\n",
    "\n",
    "# Create Vector Store\n",
    "vector_store = PineconeVectorStore.from_documents(documents, embeddings, index_name=index_name)"
   ]
  },
  {
   "cell_type": "code",
   "execution_count": 10,
   "metadata": {},
   "outputs": [
    {
     "data": {
      "text/plain": [
       "[Document(page_content='Usuarios Leal, puntos y Leal Coins', metadata={'description': 'Los puntos puedes redimirlos por premios exclusivos en la marca en la que acumulas, los Leal Coins son universales y puedes usarlos en miles de marcas físicas u online que tenemos para ti.', 'language': 'No language found.', 'source': 'https://www.leal.co/usuarios', 'title': 'Usuarios Leal, puntos y Leal Coins'}),\n",
       " Document(page_content='tu app Leal y entérate cuantos puntos te faltan para reclamar tu premio.¿Cuál es la diferencia entre puntos y Leal Coins?Los puntos puedes redimirlos por premios exclusivos en la marca en la que acumulas, los Leal Coins son universales y puedes usarlos en miles de marcas físicas u online que tenemos para ti.¿Dónde puedo usar mis Leal Coins?Usa tus Leal Coins para adquirir bonos de marcas como Mc Donalds, Crepes & Waffles o visita nuestros comercios Leal como Texaco, Buffalo Wings y úsalos para pagar. ¡Encuentra en nuestra app todas las opciones para usarlos!Actualiza tus datosMantén tus datos actualizados para reclamar tus premios y enterarte de todas nuestras ofertas.Házlo aquí¡Empieza a', metadata={'description': 'Los puntos puedes redimirlos por premios exclusivos en la marca en la que acumulas, los Leal Coins son universales y puedes usarlos en miles de marcas físicas u online que tenemos para ti.', 'language': 'No language found.', 'source': 'https://www.leal.co/usuarios', 'title': 'Usuarios Leal, puntos y Leal Coins'}),\n",
       " Document(page_content='InicioUsuariosComerciosNosotrosResource Link 1Resource Link 2Resource Link 3Descarga la app¡Conoce el poder de losLeal Coins!Encuentra en la app Leal una forma fácil de disfrutarlo que más te gusta.¿Qué son losLeal Coins?Tener Leal Coins es como tener efectivo, con ellos puedes adquirir lo que quieras en cualquiera de nuestras marcas aliadas.¿Cómo ganarlos?CompraOnlineTe devolvemos hasta el 17% de las compras que realices desde nuestra app Leal.Conoce más >Ofertas exclusivasEncuentra en la app Leal ofertas únicas con marcas que te dan mucho Cashback por tus compras.Conoce más >Tarjeta de créditoGana hasta el 5% de Cashback en todas tus compras y acumula puntos en nuestras marcas', metadata={'description': 'Encuentra en la app Leal una forma fácil de disfrutar lo que más te gusta.', 'language': 'No language found.', 'source': 'https://www.leal.co/leal-coins', 'title': 'Los Leal Coins, son como el efectivo'})]"
      ]
     },
     "execution_count": 10,
     "metadata": {},
     "output_type": "execute_result"
    }
   ],
   "source": [
    "query = \"Cual es la diferencia entre coins y puntos leal?\"\n",
    "docs = vector_store.similarity_search(query=query, k=3)\n",
    "docs\n",
    "        # st.write(docs)  # write nearest chunks\n",
    "        # llm_model = OpenAI(temperature=0.9, model_name='gpt-3.5-turbo')\n",
    "        # chain = load_qa_chain(llm=llm_model, chain_type=\"stuff\")\n",
    "        # with get_openai_callback() as cb:\n",
    "        #     response = chain.run(input_documents=docs, question=query)\n",
    "        #     # TODO: Modify prompts, and review current prompts\n",
    "\n",
    "        #     # To know costs\n",
    "        #     print(cb)\n",
    "        # st.write(response)"
   ]
  }
 ],
 "metadata": {
  "kernelspec": {
   "display_name": "base",
   "language": "python",
   "name": "python3"
  },
  "language_info": {
   "codemirror_mode": {
    "name": "ipython",
    "version": 3
   },
   "file_extension": ".py",
   "mimetype": "text/x-python",
   "name": "python",
   "nbconvert_exporter": "python",
   "pygments_lexer": "ipython3",
   "version": "3.12.2"
  }
 },
 "nbformat": 4,
 "nbformat_minor": 2
}
