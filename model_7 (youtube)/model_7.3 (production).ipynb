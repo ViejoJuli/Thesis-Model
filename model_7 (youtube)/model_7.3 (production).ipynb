{
 "cells": [
  {
   "cell_type": "markdown",
   "metadata": {},
   "source": [
    "## Mistakes with RAG in production\n",
    "source: https://www.youtube.com/watch?v=Arf7UwWjGyc\n",
    "- Not to use an API\n",
    "- Use blocking code (def instead async def)"
   ]
  },
  {
   "cell_type": "code",
   "execution_count": null,
   "metadata": {},
   "outputs": [],
   "source": []
  }
 ],
 "metadata": {
  "language_info": {
   "name": "python"
  }
 },
 "nbformat": 4,
 "nbformat_minor": 2
}
