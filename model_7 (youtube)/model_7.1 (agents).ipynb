{
 "cells": [
  {
   "cell_type": "markdown",
   "metadata": {},
   "source": [
    "## Langgrapph\n",
    " - Conectors to APIs are called tools, and agents are a set of convining tools. \n",
    " - Below ReAct Framework\n",
    " - Link : <https://www.youtube.com/watch?v=Xi9Ui-9qcPw> (shopify connection)\n",
    " - Link : <https://www.youtube.com/watch?v=Ce03oEotdPs> (agents with opensource)\n"
   ]
  },
  {
   "cell_type": "code",
   "execution_count": null,
   "metadata": {},
   "outputs": [],
   "source": []
  }
 ],
 "metadata": {
  "language_info": {
   "name": "python"
  }
 },
 "nbformat": 4,
 "nbformat_minor": 2
}
