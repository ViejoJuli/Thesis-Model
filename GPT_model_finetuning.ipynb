{
 "cells": [
  {
   "cell_type": "markdown",
   "id": "5d29f764",
   "metadata": {},
   "source": [
    "# Langchaing Agents\n",
    "The following code allows us to use conversation models with langchain, using agents\n"
   ]
  },
  {
   "cell_type": "code",
   "execution_count": 4,
   "id": "5a0b94a6",
   "metadata": {},
   "outputs": [],
   "source": [
    "#! pip install llama-cpp-python\n",
    "from llama import LLM"
   ]
  },
  {
   "cell_type": "code",
   "execution_count": null,
   "id": "5e0bebe3",
   "metadata": {},
   "outputs": [],
   "source": []
  }
 ],
 "metadata": {
  "kernelspec": {
   "display_name": "Python 3 (ipykernel)",
   "language": "python",
   "name": "python3"
  },
  "language_info": {
   "codemirror_mode": {
    "name": "ipython",
    "version": 3
   },
   "file_extension": ".py",
   "mimetype": "text/x-python",
   "name": "python",
   "nbconvert_exporter": "python",
   "pygments_lexer": "ipython3",
   "version": "3.9.7"
  }
 },
 "nbformat": 4,
 "nbformat_minor": 5
}
