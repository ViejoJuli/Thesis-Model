{
 "cells": [
  {
   "cell_type": "markdown",
   "id": "5d29f764",
   "metadata": {},
   "source": [
    "# Langchaing with URL\n",
    "Source: https://www.youtube.com/watch?v=RBnuhhmD21U&t=4s\n"
   ]
  },
  {
   "cell_type": "code",
   "execution_count": null,
   "id": "1ffb06c6",
   "metadata": {},
   "outputs": [],
   "source": [
    "# Optional packages\n",
    "'''\n",
    "!pip install langchain-openai\n",
    "!pip install openai --updgrade\n",
    "!pip install --force-reinstall -v \"openai==0.28\"\n",
    "!pip install openai==0.28\n",
    "!pip install unstructured # for unstructured info\n",
    "\n",
    "# Useful Resources\n",
    "from langchain_openai import OpenAIEmbeddings # For embbedings\n",
    "from langchain_text_splitters import CharacterTextSplitter # For tokens\n",
    "\n",
    "'''"
   ]
  },
  {
   "cell_type": "code",
   "execution_count": null,
   "id": "3009f2f8",
   "metadata": {},
   "outputs": [],
   "source": [
    "# Step 1: Configure needed parameters\n",
    "\n",
    "import os\n",
    "import openai\n",
    "from langchain.chains.conversation.memory import ConversationBufferMemory, ConversationSummaryMemory, ConversationSummaryBufferMemory, ConversationKGMemory, ConversationEntityMemory\n",
    "from langchain.chains import ConversationChain\n",
    "from langchain.prompts.prompt import PromptTemplate\n",
    "from langchain.chat_models import ChatOpenAI\n",
    "\n",
    "from dotenv import load_dotenv\n",
    "\n",
    "load_dotenv('.env')\n",
    "\n",
    "openai.api_type = \"azure\"\n",
    "\n",
    "\n",
    "# # For University Credential\n",
    "\n",
    "# openai.api_base = os.getenv(\"OPENAI_ENDPOINT\") \n",
    "# openai.api_key = os.getenv(\"OPENAI_API_KEY\")\n",
    "# openai.api_version = \"2023-05-15\"\n",
    "# llm_model = 'gpt-35-turbo-rfmanrique'\n",
    "# # llm = 'gpt-35-turbo-16k-rfmanrique'\n",
    "# # llm_embedding = 'text-embedding-ada-002-rfmanrique'\n",
    "\n",
    "\n",
    "# My credentials\n",
    "\n",
    "openai.api_base = os.getenv('OPENAI_ENDPOINT')\n",
    "openai.api_key = os.getenv('OPENAI_API_KEY')\n",
    "openai.api_version = \"2023-09-15-preview\"\n",
    "llm_model = 'gpt-35-turbo-jdrios'\n",
    "\n",
    "\n",
    "\n",
    "\n",
    "print(openai.api_base, openai.api_key, openai.api_version, openai.api_type, llm_model)"
   ]
  },
  {
   "cell_type": "code",
   "execution_count": null,
   "id": "d138c517",
   "metadata": {},
   "outputs": [],
   "source": [
    "urls = [\n",
    "    'https://www.mosaicml.com/blog/mpt-7b',\n",
    "    'https://stability.ai/blog/stability-ai-launches-the-first-of-its-stablelm-suite-of-language-models', \n",
    "    'https://lmsys.org/blog/2023-03-30-vicuna/'\n",
    "]"
   ]
  },
  {
   "cell_type": "code",
   "execution_count": null,
   "id": "1b702a32",
   "metadata": {},
   "outputs": [],
   "source": [
    "from langchain.document_loaders import UnstructuredURLLoader\n",
    "loaders = UnstructuredURLLoader(urls=urls)\n",
    "data = loaders.load()"
   ]
  }
 ],
 "metadata": {
  "kernelspec": {
   "display_name": "Python 3 (ipykernel)",
   "language": "python",
   "name": "python3"
  },
  "language_info": {
   "codemirror_mode": {
    "name": "ipython",
    "version": 3
   },
   "file_extension": ".py",
   "mimetype": "text/x-python",
   "name": "python",
   "nbconvert_exporter": "python",
   "pygments_lexer": "ipython3",
   "version": "3.9.7"
  }
 },
 "nbformat": 4,
 "nbformat_minor": 5
}
