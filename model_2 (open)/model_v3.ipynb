{
 "cells": [
  {
   "cell_type": "markdown",
   "id": "4e10b60b-94a3-441b-8fe9-2bb542c78995",
   "metadata": {},
   "source": [
    "Chainlit used to create chat interface\n",
    "Link: https://docs.chainlit.io/integrations/langchain"
   ]
  },
  {
   "cell_type": "markdown",
   "id": "47c319d8",
   "metadata": {},
   "source": [
    "Useful Resources:\n",
    "* Memory: https://www.youtube.com/watch?v=X550Zbz_ROE\n"
   ]
  },
  {
   "cell_type": "code",
   "execution_count": null,
   "id": "5288fa80-2500-46b4-9edb-97a5ec9883d4",
   "metadata": {},
   "outputs": [],
   "source": [
    "#!pip install huggingface_hub\n",
    "#!pip install transformers\n",
    "#!pip install langchain\n",
    "#!pip install chainlit\n",
    "#!pip install openai"
   ]
  },
  {
   "cell_type": "code",
   "execution_count": 1,
   "id": "2d1d0a59-e341-4583-8684-4ccb8b44f1f0",
   "metadata": {},
   "outputs": [
    {
     "data": {
      "text/plain": [
       "True"
      ]
     },
     "execution_count": 1,
     "metadata": {},
     "output_type": "execute_result"
    }
   ],
   "source": [
    "#import openai\n",
    "#import chainlit as cl\n",
    "import os\n",
    "from langchain import HuggingFaceHub, PromptTemplate, LLMChain\n",
    "from langchain.chains import ConversationChain\n",
    "from dotenv import load_dotenv\n",
    "\n",
    "load_dotenv('.env')"
   ]
  },
  {
   "cell_type": "code",
   "execution_count": 2,
   "id": "0f8a57c2-44f7-4d7c-9bc0-b376b37e7d02",
   "metadata": {},
   "outputs": [
    {
     "name": "stderr",
     "output_type": "stream",
     "text": [
      "c:\\Anaconda3\\lib\\site-packages\\huggingface_hub\\utils\\_deprecation.py:131: FutureWarning: 'InferenceApi' (from 'huggingface_hub.inference_api') is deprecated and will be removed from version '1.0'. `InferenceApi` client is deprecated in favor of the more feature-complete `InferenceClient`. Check out this guide to learn how to convert your script to use it: https://huggingface.co/docs/huggingface_hub/guides/inference#legacy-inferenceapi-client.\n",
      "  warnings.warn(warning_message, FutureWarning)\n"
     ]
    }
   ],
   "source": [
    "# model_id = \"gpt2-medium\" # 355M parameter\n",
    "# model_id = \"google/gemma-2b-it\"\n",
    "# model_id = \"google/gemma-7b\"\n",
    "model_id = \"google/flan-ul2\"\n",
    "temperature = 0.1\n",
    "\n",
    "conv_model = HuggingFaceHub(huggingfacehub_api_token=os.environ['HUGGINGFACEHUB_API_TOKEN'],\n",
    "                            repo_id=model_id,\n",
    "                            model_kwargs={\"temperature\": temperature, \"max_new_tokens\":200}) # Temperature is randomness of model"
   ]
  },
  {
   "cell_type": "code",
   "execution_count": 6,
   "id": "7ffb1e4b-9e83-4100-98be-8b4d5349e985",
   "metadata": {},
   "outputs": [],
   "source": [
    "from langchain.chains.conversation.memory import ConversationBufferMemory, ConversationSummaryMemory, ConversationSummaryBufferMemory, ConversationKGMemory, ConversationEntityMemory \n",
    "memory = ConversationBufferMemory()\n",
    "conv_chain = ConversationChain(llm=conv_model,\n",
    "                               verbose=True,\n",
    "                               memory=memory)"
   ]
  },
  {
   "cell_type": "code",
   "execution_count": 7,
   "id": "48cd73bc-f17c-4cbb-be4d-d9690d9bc13b",
   "metadata": {},
   "outputs": [
    {
     "name": "stdout",
     "output_type": "stream",
     "text": [
      "\n",
      "\n",
      "\u001b[1m> Entering new ConversationChain chain...\u001b[0m\n",
      "Prompt after formatting:\n",
      "\u001b[32;1m\u001b[1;3mThe following is a friendly conversation between a human and an AI. The AI is talkative and provides lots of specific details from its context. If the AI does not know the answer to a question, it truthfully says it does not know.\n",
      "\n",
      "Current conversation:\n",
      "\n",
      "Human: Hi, I'm Julian. My TV is broken but is under warranty\n",
      "AI:\u001b[0m\n",
      "\n",
      "\u001b[1m> Finished chain.\u001b[0m\n"
     ]
    },
    {
     "data": {
      "text/plain": [
       "\"Hi, I'm Julian. What is the problem?\""
      ]
     },
     "execution_count": 7,
     "metadata": {},
     "output_type": "execute_result"
    }
   ],
   "source": [
    "conv_chain.predict(input=\"Hi, I'm Julian. My TV is broken but is under warranty\")"
   ]
  },
  {
   "cell_type": "code",
   "execution_count": 8,
   "id": "8fc511a0",
   "metadata": {},
   "outputs": [
    {
     "name": "stdout",
     "output_type": "stream",
     "text": [
      "\n",
      "\n",
      "\u001b[1m> Entering new ConversationChain chain...\u001b[0m\n",
      "Prompt after formatting:\n",
      "\u001b[32;1m\u001b[1;3mThe following is a friendly conversation between a human and an AI. The AI is talkative and provides lots of specific details from its context. If the AI does not know the answer to a question, it truthfully says it does not know.\n",
      "\n",
      "Current conversation:\n",
      "Human: Hi, I'm Julian. My TV is broken but is under warranty\n",
      "AI: Hi, I'm Julian. What is the problem?\n",
      "Human: The screen is broken\n",
      "AI:\u001b[0m\n",
      "\n",
      "\u001b[1m> Finished chain.\u001b[0m\n"
     ]
    },
    {
     "data": {
      "text/plain": [
       "'Is it still under warranty?'"
      ]
     },
     "execution_count": 8,
     "metadata": {},
     "output_type": "execute_result"
    }
   ],
   "source": [
    "conv_chain.predict(input=\"The screen is broken\")"
   ]
  },
  {
   "cell_type": "code",
   "execution_count": 9,
   "id": "fb2a48b4",
   "metadata": {},
   "outputs": [
    {
     "name": "stdout",
     "output_type": "stream",
     "text": [
      "\n",
      "\n",
      "\u001b[1m> Entering new ConversationChain chain...\u001b[0m\n",
      "Prompt after formatting:\n",
      "\u001b[32;1m\u001b[1;3mThe following is a friendly conversation between a human and an AI. The AI is talkative and provides lots of specific details from its context. If the AI does not know the answer to a question, it truthfully says it does not know.\n",
      "\n",
      "Current conversation:\n",
      "Human: Hi, I'm Julian. My TV is broken but is under warranty\n",
      "AI: Hi, I'm Julian. What is the problem?\n",
      "Human: The screen is broken\n",
      "AI: Is it still under warranty?\n",
      "Human: Yes, the warranty numbers is A1241\n",
      "AI:\u001b[0m\n",
      "\n",
      "\u001b[1m> Finished chain.\u001b[0m\n"
     ]
    },
    {
     "data": {
      "text/plain": [
       "'Is it a Samsung?'"
      ]
     },
     "execution_count": 9,
     "metadata": {},
     "output_type": "execute_result"
    }
   ],
   "source": [
    "conv_chain.predict(input=\"Yes, the warranty numbers is A1241\")"
   ]
  },
  {
   "cell_type": "code",
   "execution_count": 11,
   "id": "3a8a9bcf",
   "metadata": {},
   "outputs": [
    {
     "name": "stdout",
     "output_type": "stream",
     "text": [
      "(\"Human: Hi, I'm Julian. My TV is broken but is under warranty\\n\"\n",
      " \"AI: Hi, I'm Julian. What is the problem?\\n\"\n",
      " 'Human: The screen is broken\\n'\n",
      " 'AI: Is it still under warranty?\\n'\n",
      " 'Human: Yes, the warranty numbers is A1241\\n'\n",
      " 'AI: Is it a Samsung?')\n"
     ]
    }
   ],
   "source": [
    "# Useful commands\n",
    "from pprint import pprint\n",
    "pprint(conv_chain.memory.buffer)"
   ]
  },
  {
   "cell_type": "code",
   "execution_count": 3,
   "id": "2a06c874",
   "metadata": {},
   "outputs": [
    {
     "name": "stderr",
     "output_type": "stream",
     "text": [
      "None of PyTorch, TensorFlow >= 2.0, or Flax have been found. Models won't be available and only tokenizers, configuration and file/data utilities can be used.\n"
     ]
    }
   ],
   "source": [
    "# Tokens\n",
    "from transformers import AutoTokenizer\n",
    "tokenizer = AutoTokenizer.from_pretrained(\"google/flan-ul2\")"
   ]
  },
  {
   "cell_type": "code",
   "execution_count": 14,
   "id": "bb32b66c",
   "metadata": {},
   "outputs": [
    {
     "data": {
      "text/plain": [
       "['▁Good', '▁morning', '▁everyone']"
      ]
     },
     "execution_count": 14,
     "metadata": {},
     "output_type": "execute_result"
    }
   ],
   "source": [
    "test_input = \"Good morning everyone\"\n",
    "# tokenizer([test_input])\n",
    "tokenizer.tokenize(test_input) # to see how the tokenizer works"
   ]
  },
  {
   "cell_type": "code",
   "execution_count": 15,
   "id": "abebd5cb",
   "metadata": {},
   "outputs": [
    {
     "data": {
      "text/plain": [
       "\"Human: Hi, I'm Julian. My TV is broken but is under warranty\\nAI: Hi, I'm Julian. What is the problem?\\nHuman: The screen is broken\\nAI: Is it still under warranty?\\nHuman: Yes, the warranty numbers is A1241\\nAI: Is it a Samsung?\""
      ]
     },
     "execution_count": 15,
     "metadata": {},
     "output_type": "execute_result"
    }
   ],
   "source": [
    "memory.buffer"
   ]
  },
  {
   "cell_type": "code",
   "execution_count": 16,
   "id": "97df56b0",
   "metadata": {},
   "outputs": [
    {
     "data": {
      "text/plain": [
       "\"The following is a friendly conversation between a human and an AI. The AI is talkative and provides lots of specific details from its context. If the AI does not know the answer to a question, it truthfully says it does not know.\\n\\nCurrent conversation:\\nHuman: Hi, I'm Julian. My TV is broken but is under warranty\\nAI: Hi, I'm Julian. What is the problem?\\nHuman: The screen is broken\\nAI: Is it still under warranty?\\nHuman: Yes, the warranty numbers is A1241\\nAI: Is it a Samsung?\\nHuman: next input\\nAI:\""
      ]
     },
     "execution_count": 16,
     "metadata": {},
     "output_type": "execute_result"
    }
   ],
   "source": [
    "formatted_prompt = conv_chain.prompt.format(input='next input', history=memory.buffer)\n",
    "formatted_prompt"
   ]
  },
  {
   "cell_type": "code",
   "execution_count": 9,
   "id": "ea10e653",
   "metadata": {},
   "outputs": [],
   "source": [
    "def chat_to_llm(chat_llm):\n",
    "    conversation_total_tokens = 0\n",
    "    new_conversation = ConversationChain(llm=chat_llm, \n",
    "                                     verbose=False, \n",
    "                                     memory=ConversationBufferMemory()\n",
    "                                     )\n",
    "    \n",
    "    while True:\n",
    "        message = input(\"Human: \")\n",
    "        if message=='exit':\n",
    "            print(f\"{conversation_total_tokens} tokens used in total in this conversation\")\n",
    "            break\n",
    "        if message:\n",
    "            formatted_prompt = new_conversation.prompt.format(input=message,history=new_conversation.memory.buffer)\n",
    "            num_tokens = len(tokenizer.tokenize(formatted_prompt))\n",
    "            conversation_total_tokens += num_tokens\n",
    "            print(f'tokens sent {num_tokens}')\n",
    "            response = new_conversation.predict(input=message)\n",
    "            response_num_tokens = len(tokenizer.tokenize(response))\n",
    "            conversation_total_tokens += response_num_tokens\n",
    "            print(f\"LLM: {response}\")"
   ]
  },
  {
   "cell_type": "code",
   "execution_count": 10,
   "id": "04f4de5e",
   "metadata": {},
   "outputs": [
    {
     "name": "stdout",
     "output_type": "stream",
     "text": [
      "tokens sent 61\n",
      "LLM: Hi, how can I help you?\n",
      "tokens sent 76\n",
      "LLM: I can help you with anything.\n",
      "tokens sent 94\n",
      "LLM: I'm sorry to hear that.\n",
      "tokens sent 110\n",
      "LLM: Is there anything I can do?\n",
      "372 tokens used in total in this conversation\n"
     ]
    }
   ],
   "source": [
    "chat_to_llm(conv_model)"
   ]
  },
  {
   "cell_type": "code",
   "execution_count": null,
   "id": "7d62e6b8",
   "metadata": {},
   "outputs": [],
   "source": []
  }
 ],
 "metadata": {
  "kernelspec": {
   "display_name": "Python 3 (ipykernel)",
   "language": "python",
   "name": "python3"
  },
  "language_info": {
   "codemirror_mode": {
    "name": "ipython",
    "version": 3
   },
   "file_extension": ".py",
   "mimetype": "text/x-python",
   "name": "python",
   "nbconvert_exporter": "python",
   "pygments_lexer": "ipython3",
   "version": "3.9.7"
  }
 },
 "nbformat": 4,
 "nbformat_minor": 5
}
