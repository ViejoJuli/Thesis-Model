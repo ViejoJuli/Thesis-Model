{
 "cells": [
  {
   "cell_type": "markdown",
   "id": "4e10b60b-94a3-441b-8fe9-2bb542c78995",
   "metadata": {},
   "source": [
    "Chainlit used to create chat interface\n",
    "Link: https://docs.chainlit.io/integrations/langchain"
   ]
  },
  {
   "cell_type": "markdown",
   "id": "47c319d8",
   "metadata": {},
   "source": [
    "Useful Resources:\n",
    "* Memory: https://www.youtube.com/watch?v=X550Zbz_ROE\n"
   ]
  },
  {
   "cell_type": "code",
   "execution_count": null,
   "id": "5288fa80-2500-46b4-9edb-97a5ec9883d4",
   "metadata": {},
   "outputs": [],
   "source": [
    "#!pip install huggingface_hub\n",
    "#!pip install transformers\n",
    "#!pip install langchain\n",
    "#!pip install chainlit\n",
    "#!pip install openai"
   ]
  },
  {
   "cell_type": "code",
   "execution_count": 1,
   "id": "2d1d0a59-e341-4583-8684-4ccb8b44f1f0",
   "metadata": {},
   "outputs": [
    {
     "data": {
      "text/plain": [
       "True"
      ]
     },
     "execution_count": 1,
     "metadata": {},
     "output_type": "execute_result"
    }
   ],
   "source": [
    "#import openai\n",
    "#import chainlit as cl\n",
    "import os\n",
    "from langchain import HuggingFaceHub, PromptTemplate, LLMChain\n",
    "from langchain.chains import ConversationChain\n",
    "from dotenv import load_dotenv\n",
    "\n",
    "load_dotenv('.env')"
   ]
  },
  {
   "cell_type": "code",
   "execution_count": 2,
   "id": "0f8a57c2-44f7-4d7c-9bc0-b376b37e7d02",
   "metadata": {},
   "outputs": [
    {
     "name": "stderr",
     "output_type": "stream",
     "text": [
      "c:\\Users\\Julián Ríos\\Desktop\\Repository\\Machine Learning\\Thesis Model\\.venv_thesis\\Lib\\site-packages\\langchain_core\\_api\\deprecation.py:117: LangChainDeprecationWarning: The class `langchain_community.llms.huggingface_hub.HuggingFaceHub` was deprecated in langchain-community 0.0.21 and will be removed in 0.2.0. Use HuggingFaceEndpoint instead.\n",
      "  warn_deprecated(\n"
     ]
    }
   ],
   "source": [
    "# model_id = \"gpt2-medium\" # 355M parameter\n",
    "# model_id = \"google/gemma-2b-it\"\n",
    "# model_id = \"google/gemma-7b\"\n",
    "model_id = \"google/flan-ul2\"\n",
    "temperature = 0.1\n",
    "\n",
    "conv_model = HuggingFaceHub(huggingfacehub_api_token=os.environ['HUGGINGFACEHUB_API_TOKEN'],\n",
    "                            repo_id=model_id,\n",
    "                            model_kwargs={\"temperature\": temperature, \"max_new_tokens\":200}) # Temperature is randomness of model"
   ]
  },
  {
   "cell_type": "code",
   "execution_count": 3,
   "id": "7ffb1e4b-9e83-4100-98be-8b4d5349e985",
   "metadata": {},
   "outputs": [],
   "source": [
    "from langchain.chains.conversation.memory import ConversationBufferMemory, ConversationSummaryMemory, ConversationSummaryBufferMemory, ConversationKGMemory, ConversationEntityMemory \n",
    "memory = ConversationBufferMemory()\n",
    "conv_chain = ConversationChain(llm=conv_model,\n",
    "                               verbose=True,\n",
    "                               memory=memory)"
   ]
  },
  {
   "cell_type": "code",
   "execution_count": 4,
   "id": "48cd73bc-f17c-4cbb-be4d-d9690d9bc13b",
   "metadata": {},
   "outputs": [
    {
     "name": "stdout",
     "output_type": "stream",
     "text": [
      "\n",
      "\n",
      "\u001b[1m> Entering new ConversationChain chain...\u001b[0m\n",
      "Prompt after formatting:\n",
      "\u001b[32;1m\u001b[1;3mThe following is a friendly conversation between a human and an AI. The AI is talkative and provides lots of specific details from its context. If the AI does not know the answer to a question, it truthfully says it does not know.\n",
      "\n",
      "Current conversation:\n",
      "\n",
      "Human: Hi, I'm Julian. My TV is broken but is under warranty\n",
      "AI:\u001b[0m\n",
      "\n",
      "\u001b[1m> Finished chain.\u001b[0m\n"
     ]
    },
    {
     "data": {
      "text/plain": [
       "\"Hi, I'm Julian. What is the brand of your TV?\""
      ]
     },
     "execution_count": 4,
     "metadata": {},
     "output_type": "execute_result"
    }
   ],
   "source": [
    "conv_chain.predict(input=\"Hi, I'm Julian. My TV is broken but is under warranty\")"
   ]
  },
  {
   "cell_type": "code",
   "execution_count": 5,
   "id": "8fc511a0",
   "metadata": {},
   "outputs": [
    {
     "name": "stdout",
     "output_type": "stream",
     "text": [
      "\n",
      "\n",
      "\u001b[1m> Entering new ConversationChain chain...\u001b[0m\n",
      "Prompt after formatting:\n",
      "\u001b[32;1m\u001b[1;3mThe following is a friendly conversation between a human and an AI. The AI is talkative and provides lots of specific details from its context. If the AI does not know the answer to a question, it truthfully says it does not know.\n",
      "\n",
      "Current conversation:\n",
      "Human: Hi, I'm Julian. My TV is broken but is under warranty\n",
      "AI: Hi, I'm Julian. What is the brand of your TV?\n",
      "Human: The screen is broken\n",
      "AI:\u001b[0m\n",
      "\n",
      "\u001b[1m> Finished chain.\u001b[0m\n"
     ]
    },
    {
     "data": {
      "text/plain": [
       "'What is the model number of your TV?'"
      ]
     },
     "execution_count": 5,
     "metadata": {},
     "output_type": "execute_result"
    }
   ],
   "source": [
    "conv_chain.predict(input=\"The screen is broken\")"
   ]
  },
  {
   "cell_type": "code",
   "execution_count": 6,
   "id": "fb2a48b4",
   "metadata": {},
   "outputs": [
    {
     "name": "stdout",
     "output_type": "stream",
     "text": [
      "\n",
      "\n",
      "\u001b[1m> Entering new ConversationChain chain...\u001b[0m\n",
      "Prompt after formatting:\n",
      "\u001b[32;1m\u001b[1;3mThe following is a friendly conversation between a human and an AI. The AI is talkative and provides lots of specific details from its context. If the AI does not know the answer to a question, it truthfully says it does not know.\n",
      "\n",
      "Current conversation:\n",
      "Human: Hi, I'm Julian. My TV is broken but is under warranty\n",
      "AI: Hi, I'm Julian. What is the brand of your TV?\n",
      "Human: The screen is broken\n",
      "AI: What is the model number of your TV?\n",
      "Human: Yes, the warranty numbers is A1241\n",
      "AI:\u001b[0m\n",
      "\n",
      "\u001b[1m> Finished chain.\u001b[0m\n"
     ]
    },
    {
     "data": {
      "text/plain": [
       "'What is the serial number of your TV?'"
      ]
     },
     "execution_count": 6,
     "metadata": {},
     "output_type": "execute_result"
    }
   ],
   "source": [
    "conv_chain.predict(input=\"Yes, the warranty numbers is A1241\")"
   ]
  },
  {
   "cell_type": "code",
   "execution_count": 7,
   "id": "3a8a9bcf",
   "metadata": {},
   "outputs": [
    {
     "name": "stdout",
     "output_type": "stream",
     "text": [
      "(\"Human: Hi, I'm Julian. My TV is broken but is under warranty\\n\"\n",
      " \"AI: Hi, I'm Julian. What is the brand of your TV?\\n\"\n",
      " 'Human: The screen is broken\\n'\n",
      " 'AI: What is the model number of your TV?\\n'\n",
      " 'Human: Yes, the warranty numbers is A1241\\n'\n",
      " 'AI: What is the serial number of your TV?')\n"
     ]
    }
   ],
   "source": [
    "# Useful commands\n",
    "from pprint import pprint\n",
    "pprint(conv_chain.memory.buffer)"
   ]
  },
  {
   "cell_type": "code",
   "execution_count": 8,
   "id": "2a06c874",
   "metadata": {},
   "outputs": [
    {
     "data": {
      "application/vnd.jupyter.widget-view+json": {
       "model_id": "37ee4076326e438ba3221a5aadedc00a",
       "version_major": 2,
       "version_minor": 0
      },
      "text/plain": [
       "tokenizer_config.json:   0%|          | 0.00/2.35k [00:00<?, ?B/s]"
      ]
     },
     "metadata": {},
     "output_type": "display_data"
    },
    {
     "name": "stderr",
     "output_type": "stream",
     "text": [
      "c:\\Users\\Julián Ríos\\Desktop\\Repository\\Machine Learning\\Thesis Model\\.venv_thesis\\Lib\\site-packages\\huggingface_hub\\file_download.py:148: UserWarning: `huggingface_hub` cache-system uses symlinks by default to efficiently store duplicated files but your machine does not support them in C:\\Users\\Julián Ríos\\.cache\\huggingface\\hub\\models--google--flan-ul2. Caching files will still work but in a degraded version that might require more space on your disk. This warning can be disabled by setting the `HF_HUB_DISABLE_SYMLINKS_WARNING` environment variable. For more details, see https://huggingface.co/docs/huggingface_hub/how-to-cache#limitations.\n",
      "To support symlinks on Windows, you either need to activate Developer Mode or to run Python as an administrator. In order to see activate developer mode, see this article: https://docs.microsoft.com/en-us/windows/apps/get-started/enable-your-device-for-development\n",
      "  warnings.warn(message)\n"
     ]
    },
    {
     "data": {
      "application/vnd.jupyter.widget-view+json": {
       "model_id": "dcbea25c643f4ce79b45ff39890f7874",
       "version_major": 2,
       "version_minor": 0
      },
      "text/plain": [
       "spiece.model:   0%|          | 0.00/792k [00:00<?, ?B/s]"
      ]
     },
     "metadata": {},
     "output_type": "display_data"
    },
    {
     "data": {
      "application/vnd.jupyter.widget-view+json": {
       "model_id": "0c85e75d81ec4c4a8d2845139b60f562",
       "version_major": 2,
       "version_minor": 0
      },
      "text/plain": [
       "tokenizer.json:   0%|          | 0.00/2.43M [00:00<?, ?B/s]"
      ]
     },
     "metadata": {},
     "output_type": "display_data"
    },
    {
     "data": {
      "application/vnd.jupyter.widget-view+json": {
       "model_id": "a6ff207e822c4881a6ba74efce330b0a",
       "version_major": 2,
       "version_minor": 0
      },
      "text/plain": [
       "added_tokens.json:   0%|          | 0.00/665 [00:00<?, ?B/s]"
      ]
     },
     "metadata": {},
     "output_type": "display_data"
    },
    {
     "data": {
      "application/vnd.jupyter.widget-view+json": {
       "model_id": "97df94b9ba1b4d4d847ef0386f10c3ed",
       "version_major": 2,
       "version_minor": 0
      },
      "text/plain": [
       "special_tokens_map.json:   0%|          | 0.00/2.20k [00:00<?, ?B/s]"
      ]
     },
     "metadata": {},
     "output_type": "display_data"
    }
   ],
   "source": [
    "# Tokens\n",
    "from transformers import AutoTokenizer\n",
    "tokenizer = AutoTokenizer.from_pretrained(\"google/flan-ul2\")"
   ]
  },
  {
   "cell_type": "code",
   "execution_count": 9,
   "id": "bb32b66c",
   "metadata": {},
   "outputs": [
    {
     "data": {
      "text/plain": [
       "['▁Good', '▁morning', '▁everyone']"
      ]
     },
     "execution_count": 9,
     "metadata": {},
     "output_type": "execute_result"
    }
   ],
   "source": [
    "test_input = \"Good morning everyone\"\n",
    "# tokenizer([test_input])\n",
    "tokenizer.tokenize(test_input) # to see how the tokenizer works"
   ]
  },
  {
   "cell_type": "code",
   "execution_count": 10,
   "id": "abebd5cb",
   "metadata": {},
   "outputs": [
    {
     "data": {
      "text/plain": [
       "\"Human: Hi, I'm Julian. My TV is broken but is under warranty\\nAI: Hi, I'm Julian. What is the brand of your TV?\\nHuman: The screen is broken\\nAI: What is the model number of your TV?\\nHuman: Yes, the warranty numbers is A1241\\nAI: What is the serial number of your TV?\""
      ]
     },
     "execution_count": 10,
     "metadata": {},
     "output_type": "execute_result"
    }
   ],
   "source": [
    "memory.buffer"
   ]
  },
  {
   "cell_type": "code",
   "execution_count": 11,
   "id": "97df56b0",
   "metadata": {},
   "outputs": [
    {
     "data": {
      "text/plain": [
       "\"The following is a friendly conversation between a human and an AI. The AI is talkative and provides lots of specific details from its context. If the AI does not know the answer to a question, it truthfully says it does not know.\\n\\nCurrent conversation:\\nHuman: Hi, I'm Julian. My TV is broken but is under warranty\\nAI: Hi, I'm Julian. What is the brand of your TV?\\nHuman: The screen is broken\\nAI: What is the model number of your TV?\\nHuman: Yes, the warranty numbers is A1241\\nAI: What is the serial number of your TV?\\nHuman: next input\\nAI:\""
      ]
     },
     "execution_count": 11,
     "metadata": {},
     "output_type": "execute_result"
    }
   ],
   "source": [
    "formatted_prompt = conv_chain.prompt.format(input='next input', history=memory.buffer)\n",
    "formatted_prompt"
   ]
  },
  {
   "cell_type": "code",
   "execution_count": 12,
   "id": "ea10e653",
   "metadata": {},
   "outputs": [],
   "source": [
    "def chat_to_llm(chat_llm):\n",
    "    conversation_total_tokens = 0\n",
    "    new_conversation = ConversationChain(llm=chat_llm, \n",
    "                                     verbose=False, \n",
    "                                     memory=ConversationBufferMemory()\n",
    "                                     )\n",
    "    \n",
    "    while True:\n",
    "        message = input(\"Human: \")\n",
    "        if message=='exit':\n",
    "            print(f\"{conversation_total_tokens} tokens used in total in this conversation\")\n",
    "            break\n",
    "        if message:\n",
    "            formatted_prompt = new_conversation.prompt.format(input=message,history=new_conversation.memory.buffer)\n",
    "            num_tokens = len(tokenizer.tokenize(formatted_prompt))\n",
    "            conversation_total_tokens += num_tokens\n",
    "            print(f'tokens sent {num_tokens}')\n",
    "            response = new_conversation.predict(input=message)\n",
    "            response_num_tokens = len(tokenizer.tokenize(response))\n",
    "            conversation_total_tokens += response_num_tokens\n",
    "            print(f\"LLM: {response}\")"
   ]
  },
  {
   "cell_type": "code",
   "execution_count": 13,
   "id": "04f4de5e",
   "metadata": {},
   "outputs": [
    {
     "name": "stdout",
     "output_type": "stream",
     "text": [
      "tokens sent 65\n",
      "LLM: Hi, I'm a chatbot. How can I help you?\n",
      "tokens sent 89\n",
      "LLM: Is it the screen or the sound?\n",
      "tokens sent 105\n",
      "LLM: It is Samsung.\n",
      "288 tokens used in total in this conversation\n"
     ]
    }
   ],
   "source": [
    "chat_to_llm(conv_model)"
   ]
  },
  {
   "cell_type": "code",
   "execution_count": null,
   "id": "7d62e6b8",
   "metadata": {},
   "outputs": [],
   "source": []
  }
 ],
 "metadata": {
  "kernelspec": {
   "display_name": "Python 3 (ipykernel)",
   "language": "python",
   "name": "python3"
  },
  "language_info": {
   "codemirror_mode": {
    "name": "ipython",
    "version": 3
   },
   "file_extension": ".py",
   "mimetype": "text/x-python",
   "name": "python",
   "nbconvert_exporter": "python",
   "pygments_lexer": "ipython3",
   "version": "3.12.2"
  }
 },
 "nbformat": 4,
 "nbformat_minor": 5
}
