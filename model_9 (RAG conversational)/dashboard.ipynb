{
 "cells": [
  {
   "cell_type": "code",
   "execution_count": 4,
   "metadata": {},
   "outputs": [],
   "source": [
    "import pandas as pd\n",
    "import random\n",
    "import numpy as np\n",
    "costs = np.random.rand(100)\n",
    "\n",
    "states = [\"negative\", \"positive\", \"neutral\"]\n",
    "sentiment =random.choices(states, k=100)\n",
    "\n",
    "\n",
    "costs = costs/100"
   ]
  },
  {
   "cell_type": "code",
   "execution_count": 5,
   "metadata": {},
   "outputs": [],
   "source": [
    "names = [\n",
    "    \"Alice\", \"Bob\", \"Charlie\", \"David\", \"Emily\", \"Fiona\", \"George\", \"Henry\",\n",
    "    \"Isabella\", \"Jack\", \"Olivia\", \"William\", \"Sophia\", \"James\", \"Benjamin\", \"Ava\",\n",
    "    \"Noah\", \"Mia\", \"Lucas\", \"Charlotte\", \"Elijah\", \"Harper\", \"Aiden\", \"Evelyn\",\n",
    "    \"Logan\", \"Abigail\", \"Mason\", \"Amelia\", \"Ethan\", \"Isabella\", \"Alexander\", \"Elizabeth\",\n",
    "    \"Michael\", \"Sofia\", \"Daniel\", \"Evelyn\", \"Matthew\", \"Charlotte\", \"Aiden\", \"Avery\",\n",
    "    \"Joseph\", \"Mila\", \"Jackson\", \"Scarlett\", \"Anthony\", \"Eleanor\", \"William\", \"Penelope\",\n",
    "    \"Andrew\", \"Violet\", \"Gabriel\", \"Sophia\", \"Benjamin\", \"Audrey\", \"David\", \"Zoey\",\n",
    "    \"Harrison\", \"Luna\", \"Daniel\", \"Claire\", \"Charles\", \"Eliana\", \"Christopher\", \"Riley\",\n",
    "    \"Johnathan\", \"Nova\", \"James\", \"Mackenzie\", \"Owen\", \"Stella\", \"Robert\", \"Evelyn\", \"Alice\",\n",
    "     \"Bob\", \"Charlie\", \"David\", \"Emily\", \"Fiona\", \"George\", \"Henry\",\n",
    "    \"Isabella\", \"Jack\", \"Olivia\", \"William\", \"Sophia\", \"James\", \"Benjamin\", \"Ava\",\n",
    "    \"Noah\", \"Mia\", \"Lucas\", \"Charlotte\", \"Sofia\", \"Daniel\", \"Evelyn\", \"Matthew\",\n",
    "    \"Charlotte\", \"Aiden\", \"Avery\", \"Joseph\"]"
   ]
  },
  {
   "cell_type": "code",
   "execution_count": 6,
   "metadata": {},
   "outputs": [
    {
     "data": {
      "text/html": [
       "<div>\n",
       "<style scoped>\n",
       "    .dataframe tbody tr th:only-of-type {\n",
       "        vertical-align: middle;\n",
       "    }\n",
       "\n",
       "    .dataframe tbody tr th {\n",
       "        vertical-align: top;\n",
       "    }\n",
       "\n",
       "    .dataframe thead th {\n",
       "        text-align: right;\n",
       "    }\n",
       "</style>\n",
       "<table border=\"1\" class=\"dataframe\">\n",
       "  <thead>\n",
       "    <tr style=\"text-align: right;\">\n",
       "      <th></th>\n",
       "      <th>name</th>\n",
       "      <th>sentiment</th>\n",
       "      <th>cost</th>\n",
       "    </tr>\n",
       "  </thead>\n",
       "  <tbody>\n",
       "    <tr>\n",
       "      <th>0</th>\n",
       "      <td>Alice</td>\n",
       "      <td>negative</td>\n",
       "      <td>0.001225</td>\n",
       "    </tr>\n",
       "    <tr>\n",
       "      <th>1</th>\n",
       "      <td>Bob</td>\n",
       "      <td>positive</td>\n",
       "      <td>0.008737</td>\n",
       "    </tr>\n",
       "    <tr>\n",
       "      <th>2</th>\n",
       "      <td>Charlie</td>\n",
       "      <td>positive</td>\n",
       "      <td>0.003755</td>\n",
       "    </tr>\n",
       "    <tr>\n",
       "      <th>3</th>\n",
       "      <td>David</td>\n",
       "      <td>neutral</td>\n",
       "      <td>0.009420</td>\n",
       "    </tr>\n",
       "    <tr>\n",
       "      <th>4</th>\n",
       "      <td>Emily</td>\n",
       "      <td>positive</td>\n",
       "      <td>0.009777</td>\n",
       "    </tr>\n",
       "  </tbody>\n",
       "</table>\n",
       "</div>"
      ],
      "text/plain": [
       "      name sentiment      cost\n",
       "0    Alice  negative  0.001225\n",
       "1      Bob  positive  0.008737\n",
       "2  Charlie  positive  0.003755\n",
       "3    David   neutral  0.009420\n",
       "4    Emily  positive  0.009777"
      ]
     },
     "execution_count": 6,
     "metadata": {},
     "output_type": "execute_result"
    }
   ],
   "source": [
    "dict = {'name': names, 'sentiment': sentiment, 'cost': costs} \n",
    "df = pd.DataFrame(dict)\n",
    "df.head(5)"
   ]
  },
  {
   "cell_type": "code",
   "execution_count": 9,
   "metadata": {},
   "outputs": [
    {
     "name": "stdout",
     "output_type": "stream",
     "text": [
      "DataFrame is written to Excel File successfully.\n"
     ]
    }
   ],
   "source": [
    "file_name = 'MarksData.xlsx'\n",
    "\n",
    "# saving the excel\n",
    "df.to_excel(file_name)\n",
    "print('DataFrame is written to Excel File successfully.')"
   ]
  }
 ],
 "metadata": {
  "kernelspec": {
   "display_name": ".venv_thesis",
   "language": "python",
   "name": "python3"
  },
  "language_info": {
   "codemirror_mode": {
    "name": "ipython",
    "version": 3
   },
   "file_extension": ".py",
   "mimetype": "text/x-python",
   "name": "python",
   "nbconvert_exporter": "python",
   "pygments_lexer": "ipython3",
   "version": "3.12.2"
  }
 },
 "nbformat": 4,
 "nbformat_minor": 2
}
