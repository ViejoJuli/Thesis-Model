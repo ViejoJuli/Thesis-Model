{
 "cells": [
  {
   "cell_type": "markdown",
   "metadata": {},
   "source": [
    "# This is an auxiliar model to load the info to Pinecone"
   ]
  },
  {
   "cell_type": "code",
   "execution_count": null,
   "metadata": {},
   "outputs": [],
   "source": [
    "import streamlit as st\n",
    "from dotenv import load_dotenv\n",
    "from PyPDF2 import PdfReader\n",
    "import pickle\n",
    "import os\n",
    "from streamlit_extras.add_vertical_space import add_vertical_space\n",
    "from langchain.text_splitter import RecursiveCharacterTextSplitter\n",
    "from langchain.embeddings.openai import OpenAIEmbeddings\n",
    "from langchain.llms import OpenAI\n",
    "from langchain.chains.question_answering import load_qa_chain\n",
    "from langchain.callbacks import get_openai_callback\n",
    "from langchain.embeddings import HuggingFaceHubEmbeddings\n",
    "from langchain_pinecone import Pinecone\n",
    "index_name = 'thesis-model-1'"
   ]
  },
  {
   "cell_type": "code",
   "execution_count": null,
   "metadata": {},
   "outputs": [],
   "source": [
    "pdf_reader = PdfReader(\"user manual.pdf\")\n",
    "text = \"\"\n",
    "for page in pdf_reader.pages:\n",
    "    text += page.extract_text()\n",
    "\n",
    "# Split text in smaller chunks (checked)\n",
    "text_splitter = RecursiveCharacterTextSplitter(\n",
    "    chunk_size=1000,\n",
    "    chunk_overlap=200,  # Keep context\n",
    "    length_function=len,\n",
    ")\n",
    "chunks = text_splitter.split_text(text=text)\n",
    "# chunks = text_splitter.create_documents([text])"
   ]
  },
  {
   "cell_type": "code",
   "execution_count": 10,
   "metadata": {},
   "outputs": [
    {
     "name": "stderr",
     "output_type": "stream",
     "text": [
      "c:\\Anaconda3\\lib\\site-packages\\huggingface_hub\\utils\\_deprecation.py:131: FutureWarning: 'InferenceApi' (from 'huggingface_hub.inference_api') is deprecated and will be removed from version '1.0'. `InferenceApi` client is deprecated in favor of the more feature-complete `InferenceClient`. Check out this guide to learn how to convert your script to use it: https://huggingface.co/docs/huggingface_hub/guides/inference#legacy-inferenceapi-client.\n",
      "  warnings.warn(warning_message, FutureWarning)\n",
      "You're using a different task than the one specified in the repository. Be sure to know what you're doing :)\n",
      "2024-03-12 06:18:44.291 WARNING huggingface_hub.inference_api: You're using a different task than the one specified in the repository. Be sure to know what you're doing :)\n"
     ]
    }
   ],
   "source": [
    "# Computing Embeddings (with Hughing Face)\n",
    "emb_model = \"sentence-transformers/all-mpnet-base-v2\"\n",
    "embeddings = HuggingFaceHubEmbeddings(repo_id=emb_model,\n",
    "                                        huggingfacehub_api_token=os.getenv('HUGGINGFACEHUB_API_TOKEN'))\n",
    "\n",
    "# Store the embeddings\n",
    "\n",
    "vectorStore = Pinecone.from_texts(\n",
    "    chunks, embeddings, index_name=index_name)"
   ]
  },
  {
   "cell_type": "code",
   "execution_count": 15,
   "metadata": {},
   "outputs": [
    {
     "data": {
      "text/plain": [
       "[Document(page_content='Cómo instalar las pilas del Wii Remote   . . . . . . . . . . . . . . . . . . . . . . . . . . . . . . . . . . . 143\\nColocación de la correa del Wii Remote   . . . . . . . . . . . . . . . . . . . . . . . . . . . . . . . . . . 144\\nCómo usar el Nunchuk   . . . . . . . . . . . . . . . . . . . . . . . . . . . . . . . . . . . . . . . . . . . . . . . . . 145\\nCómo desconectar el Nunchuk  . . . . . . . . . . . . . . . . . . . . . . . . . . . . . . . . . . . . . . . . . . 146\\n \\nConfiguración de la consola\\n \\nConfiguración de la consola . . . . . . . . . . . . . . . . . . . . . . . . . . . . . . . . . . . . . . . 148\\nCómo cambiar la configuración . . . . . . . . . . . . . . . . . . . . . . . . . . . . . . . . . . . . . . . . . . 148\\nAjustes de usuario   . . . . . . . . . . . . . . . . . . . . . . . . . . . . . . . . . . . . . . . . . . . . . . . 149\\nCómo registrar usuarios   . . . . . . . . . . . . . . . . . . . . . . . . . . . . . . . . . . . . . . . . . . . . . . . . 149'),\n",
       " Document(page_content='143 142Cómo usar el control Wii Remote\\nCómo usar el control Wii RemoteCómo usar la funda del Wii Remote\\n•\\tAntes de empezar a jugar, asegúrate de que la funda del Wii Remote está instalada \\ncorrectamente para reducir el riesgo de que el control o los objetos cercanos sufran daños y \\npara evitar lesionar a las personas�\\nEs posible que tengas que quitar la funda del Wii Remote (por ejemplo, para cambiar las pilas \\ndel Wii Remote)�  Si quitas la funda del Wii Remote, asegúrate de instalarla de nuevo antes de \\nvolver a jugar �\\nCómo instalar las pilas del Wii Remote\\n Tira de la funda desde la parte de \\nla base del control y tira de la \\ncorrea a través del orificio \\x08\\n Tira de la funda hacia atrás hasta que \\nquede descubierta la tapa del \\ncompartimento de las pilas en su \\ntotalidad\\x08  A continuación, retira la tapa\\x08\\n Introduce las pilas dentro del \\ncompartimento de las pilas \\nempezando por el polo negativo (–)\\x08  \\nRetira primero el polo positivo (+) \\ncuando cambies las pilas\\x08'),\n",
       " Document(page_content='Cómo restablecer la posición neutra   . . . . . . . . . . . . . . . . . . . . . . . . . . . . . . . . . . . . . 157\\nCómo cambiar baterías o pilas . . . . . . . . . . . . . . . . . . . . . . . . . . . . . . . . . . . . . 158\\nControl Wii\\xa0U\\xa0GamePad   . . . . . . . . . . . . . . . . . . . . . . . . . . . . . . . . . . . . . . . . . . . . . . . . 158\\nControl Wii\\xa0U Pro   . . . . . . . . . . . . . . . . . . . . . . . . . . . . . . . . . . . . . . . . . . . . . . . . . . . . . . 160\\nConsola Wii\\xa0U   . . . . . . . . . . . . . . . . . . . . . . . . . . . . . . . . . . . . . . . . . . . . . . . . . . . . . . . . . 162\\n \\nInformación para el cliente\\n \\nSolución de problemas   . . . . . . . . . . . . . . . . . . . . . . . . . . . . . . . . . . . . . . . . . . . 164\\nInformación de garantía y servicio de reparación . . . . . . . . . . . . . . . . . . . . . 170\\nRegulaciones sobre el uso del equipo   . . . . . . . . . . . . . . . . . . . . . . . . . . . . . . 171120')]"
      ]
     },
     "execution_count": 15,
     "metadata": {},
     "output_type": "execute_result"
    }
   ],
   "source": [
    "query = \"Cómo ponerle las pilas al wii?\"\n",
    "docs = vectorStore.similarity_search(query=query, k=3)\n",
    "docs\n",
    "        # st.write(docs)  # write nearest chunks\n",
    "        # llm_model = OpenAI(temperature=0.9, model_name='gpt-3.5-turbo')\n",
    "        # chain = load_qa_chain(llm=llm_model, chain_type=\"stuff\")\n",
    "        # with get_openai_callback() as cb:\n",
    "        #     response = chain.run(input_documents=docs, question=query)\n",
    "        #     # TODO: Modify prompts, and review current prompts\n",
    "\n",
    "        #     # To know costs\n",
    "        #     print(cb)\n",
    "        # st.write(response)"
   ]
  },
  {
   "cell_type": "code",
   "execution_count": 18,
   "metadata": {},
   "outputs": [],
   "source": [
    "index_name = \"thesis-model-1\"\n",
    "embeddings = OpenAIEmbeddings(openai_api_key=os.environ['OPENAI_API_KEY'])\n",
    "docsearch = Pinecone.from_existing_index(index_name, embeddings)"
   ]
  },
  {
   "cell_type": "code",
   "execution_count": 19,
   "metadata": {},
   "outputs": [
    {
     "data": {
      "text/plain": [
       "[Document(page_content='Cómo instalar las pilas del Wii Remote   . . . . . . . . . . . . . . . . . . . . . . . . . . . . . . . . . . . 143\\nColocación de la correa del Wii Remote   . . . . . . . . . . . . . . . . . . . . . . . . . . . . . . . . . . 144\\nCómo usar el Nunchuk   . . . . . . . . . . . . . . . . . . . . . . . . . . . . . . . . . . . . . . . . . . . . . . . . . 145\\nCómo desconectar el Nunchuk  . . . . . . . . . . . . . . . . . . . . . . . . . . . . . . . . . . . . . . . . . . 146\\n \\nConfiguración de la consola\\n \\nConfiguración de la consola . . . . . . . . . . . . . . . . . . . . . . . . . . . . . . . . . . . . . . . 148\\nCómo cambiar la configuración . . . . . . . . . . . . . . . . . . . . . . . . . . . . . . . . . . . . . . . . . . 148\\nAjustes de usuario   . . . . . . . . . . . . . . . . . . . . . . . . . . . . . . . . . . . . . . . . . . . . . . . 149\\nCómo registrar usuarios   . . . . . . . . . . . . . . . . . . . . . . . . . . . . . . . . . . . . . . . . . . . . . . . . 149'),\n",
       " Document(page_content='143 142Cómo usar el control Wii Remote\\nCómo usar el control Wii RemoteCómo usar la funda del Wii Remote\\n•\\tAntes de empezar a jugar, asegúrate de que la funda del Wii Remote está instalada \\ncorrectamente para reducir el riesgo de que el control o los objetos cercanos sufran daños y \\npara evitar lesionar a las personas�\\nEs posible que tengas que quitar la funda del Wii Remote (por ejemplo, para cambiar las pilas \\ndel Wii Remote)�  Si quitas la funda del Wii Remote, asegúrate de instalarla de nuevo antes de \\nvolver a jugar �\\nCómo instalar las pilas del Wii Remote\\n Tira de la funda desde la parte de \\nla base del control y tira de la \\ncorrea a través del orificio \\x08\\n Tira de la funda hacia atrás hasta que \\nquede descubierta la tapa del \\ncompartimento de las pilas en su \\ntotalidad\\x08  A continuación, retira la tapa\\x08\\n Introduce las pilas dentro del \\ncompartimento de las pilas \\nempezando por el polo negativo (–)\\x08  \\nRetira primero el polo positivo (+) \\ncuando cambies las pilas\\x08'),\n",
       " Document(page_content='Cómo restablecer la posición neutra   . . . . . . . . . . . . . . . . . . . . . . . . . . . . . . . . . . . . . 157\\nCómo cambiar baterías o pilas . . . . . . . . . . . . . . . . . . . . . . . . . . . . . . . . . . . . . 158\\nControl Wii\\xa0U\\xa0GamePad   . . . . . . . . . . . . . . . . . . . . . . . . . . . . . . . . . . . . . . . . . . . . . . . . 158\\nControl Wii\\xa0U Pro   . . . . . . . . . . . . . . . . . . . . . . . . . . . . . . . . . . . . . . . . . . . . . . . . . . . . . . 160\\nConsola Wii\\xa0U   . . . . . . . . . . . . . . . . . . . . . . . . . . . . . . . . . . . . . . . . . . . . . . . . . . . . . . . . . 162\\n \\nInformación para el cliente\\n \\nSolución de problemas   . . . . . . . . . . . . . . . . . . . . . . . . . . . . . . . . . . . . . . . . . . . 164\\nInformación de garantía y servicio de reparación . . . . . . . . . . . . . . . . . . . . . 170\\nRegulaciones sobre el uso del equipo   . . . . . . . . . . . . . . . . . . . . . . . . . . . . . . 171120')]"
      ]
     },
     "execution_count": 19,
     "metadata": {},
     "output_type": "execute_result"
    }
   ],
   "source": [
    "query = \"Cómo ponerle las pilas al wii?\"\n",
    "docs = vectorStore.similarity_search(query=query, k=3)\n",
    "docs"
   ]
  }
 ],
 "metadata": {
  "kernelspec": {
   "display_name": "base",
   "language": "python",
   "name": "python3"
  },
  "language_info": {
   "codemirror_mode": {
    "name": "ipython",
    "version": 3
   },
   "file_extension": ".py",
   "mimetype": "text/x-python",
   "name": "python",
   "nbconvert_exporter": "python",
   "pygments_lexer": "ipython3",
   "version": "3.9.7"
  }
 },
 "nbformat": 4,
 "nbformat_minor": 2
}
