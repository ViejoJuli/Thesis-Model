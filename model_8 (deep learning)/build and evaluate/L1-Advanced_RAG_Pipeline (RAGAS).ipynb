{
 "cells": [
  {
   "cell_type": "markdown",
   "id": "a9bff53e",
   "metadata": {},
   "source": [
    "## Advanced RAG Pipeline\n",
    "- RAGAS: https://www.youtube.com/watch?v=Anr1br0lLz8"
   ]
  },
  {
   "cell_type": "code",
   "execution_count": 2,
   "id": "4811e0ed",
   "metadata": {},
   "outputs": [],
   "source": [
    "import os\n",
    "import openai\n",
    "from langchain.chat_models import ChatOpenAI\n",
    "from dotenv import load_dotenv\n",
    "\n",
    "load_dotenv('.env')\n",
    "openai.api_base = os.getenv('OPENAI_ENDPOINT')\n",
    "openai.api_key = os.getenv('OPENAI_API_KEY')\n",
    "openai.api_version = \"2023-09-15-preview\"\n",
    "llm_model = 'gpt-35-turbo-jdrios'\n",
    "emb_model = 'text-embedding-ada-002-jdrios'"
   ]
  },
  {
   "cell_type": "code",
   "execution_count": 3,
   "id": "31e2859b-596e-40b3-867b-f4d6e91f74bc",
   "metadata": {
    "height": 98,
    "tags": []
   },
   "outputs": [],
   "source": [
    "from langchain_community.document_loaders import WebBaseLoader\n",
    "loader = WebBaseLoader(\n",
    "    \"https://www.leal.co/usuarios\"\n",
    ")\n",
    "documents = loader.load()"
   ]
  },
  {
   "cell_type": "code",
   "execution_count": 4,
   "id": "b4abc806-64f5-46bb-8c9f-6469ecb18d20",
   "metadata": {
    "height": 64,
    "tags": []
   },
   "outputs": [
    {
     "data": {
      "text/plain": [
       "{'source': 'https://www.leal.co/usuarios',\n",
       " 'title': 'Usuarios Leal, puntos y Leal Coins',\n",
       " 'description': 'Los puntos puedes redimirlos por premios exclusivos en la marca en la que acumulas, los Leal Coins son universales y puedes usarlos en miles de marcas físicas u online que tenemos para ti.',\n",
       " 'language': 'No language found.'}"
      ]
     },
     "execution_count": 4,
     "metadata": {},
     "output_type": "execute_result"
    }
   ],
   "source": [
    "# Metadata\n",
    "documents[0].metadata"
   ]
  },
  {
   "cell_type": "code",
   "execution_count": 5,
   "id": "7e9e1e1f",
   "metadata": {},
   "outputs": [],
   "source": [
    "from langchain.text_splitter import RecursiveCharacterTextSplitter\n",
    "\n",
    "text_splitter = RecursiveCharacterTextSplitter(\n",
    "    chunk_size = 700,\n",
    "    chunk_overlap = 50\n",
    ")\n",
    "\n",
    "documents = text_splitter.split_documents(documents)"
   ]
  },
  {
   "cell_type": "code",
   "execution_count": 6,
   "id": "1039a798",
   "metadata": {},
   "outputs": [
    {
     "data": {
      "text/plain": [
       "5"
      ]
     },
     "execution_count": 6,
     "metadata": {},
     "output_type": "execute_result"
    }
   ],
   "source": [
    "len(documents)"
   ]
  },
  {
   "cell_type": "code",
   "execution_count": 7,
   "id": "76b6a219",
   "metadata": {},
   "outputs": [],
   "source": [
    "from langchain_openai import AzureOpenAIEmbeddings\n",
    "\n",
    "embeddings = AzureOpenAIEmbeddings(\n",
    "    azure_deployment=emb_model,\n",
    "    azure_endpoint=os.getenv('OPENAI_ENDPOINT'),\n",
    ")"
   ]
  },
  {
   "cell_type": "code",
   "execution_count": 8,
   "id": "ef7f2464",
   "metadata": {},
   "outputs": [],
   "source": [
    "# Create Vector Store\n",
    "from langchain_community.vectorstores import FAISS\n",
    "vector_store = FAISS.from_documents(documents, embeddings)"
   ]
  },
  {
   "cell_type": "code",
   "execution_count": 9,
   "id": "5fb82cc3",
   "metadata": {},
   "outputs": [],
   "source": [
    "# Creating Retriever\n",
    "retriever = vector_store.as_retriever()"
   ]
  },
  {
   "cell_type": "code",
   "execution_count": 10,
   "id": "81604f57",
   "metadata": {},
   "outputs": [],
   "source": [
    "# How to retrieve content\n",
    "retrieved_documents = retriever.invoke(\"Que son coins?\")"
   ]
  },
  {
   "cell_type": "code",
   "execution_count": 11,
   "id": "feb7a883",
   "metadata": {},
   "outputs": [
    {
     "name": "stdout",
     "output_type": "stream",
     "text": [
      "page_content='Usuarios Leal, puntos y Leal Coins' metadata={'source': 'https://www.leal.co/usuarios', 'title': 'Usuarios Leal, puntos y Leal Coins', 'description': 'Los puntos puedes redimirlos por premios exclusivos en la marca en la que acumulas, los Leal Coins son universales y puedes usarlos en miles de marcas físicas u online que tenemos para ti.', 'language': 'No language found.'}\n",
      "page_content='tu app Leal y entérate cuantos puntos te faltan para reclamar tu premio.¿Cuál es la diferencia entre puntos y Leal Coins?Los puntos puedes redimirlos por premios exclusivos en la marca en la que acumulas, los Leal Coins son universales y puedes usarlos en miles de marcas físicas u online que tenemos para ti.¿Dónde puedo usar mis Leal Coins?Usa tus Leal Coins para adquirir bonos de marcas como Mc Donalds, Crepes & Waffles o visita nuestros comercios Leal como Texaco, Buffalo Wings y úsalos para pagar. ¡Encuentra en nuestra app todas las opciones para usarlos!Actualiza tus datosMantén tus datos actualizados para reclamar tus premios y enterarte de todas nuestras ofertas.Házlo aquí¡Empieza a' metadata={'source': 'https://www.leal.co/usuarios', 'title': 'Usuarios Leal, puntos y Leal Coins', 'description': 'Los puntos puedes redimirlos por premios exclusivos en la marca en la que acumulas, los Leal Coins son universales y puedes usarlos en miles de marcas físicas u online que tenemos para ti.', 'language': 'No language found.'}\n",
      "page_content='crédito Leal y gana cashback hasta de 5% con tus compras.¡Miles de opciones para que uses tus Leal Coins!Encuentra en nuestra app opciones desde $1.000 para disfrutar en las mejores marcas.Usa tus Leal Coins en nuestros comercios aliados mientras acumulas tus puntos.Preguntas FrecuentesResuelve tus dudas y empieza a ganar recompensas con tus compras usando Leal.¿Dónde puedo acumular puntos?Tenemos cientos de comercios donde puedes acumular puntos y redimirlos por premios increíbles. ¡Descarga Leal y descúbrelos!¿Cuáles son los premios que puedo reclamar?Tu marca favorita tiene una lista de premios que puedes redimir con tus puntos, conócela en tu app Leal y entérate cuantos puntos te faltan' metadata={'source': 'https://www.leal.co/usuarios', 'title': 'Usuarios Leal, puntos y Leal Coins', 'description': 'Los puntos puedes redimirlos por premios exclusivos en la marca en la que acumulas, los Leal Coins son universales y puedes usarlos en miles de marcas físicas u online que tenemos para ti.', 'language': 'No language found.'}\n",
      "page_content='de todas nuestras ofertas.Házlo aquí¡Empieza a hacer compras inteligentes ahora!DESCARGAR LA APPPáginas principalesUsuariosComerciosNosotrosBlog LealPuntosLeal CoinsSeguridadBlog LealSoporteTérminos y condicionesAyuda y contactoTratamiento de datosVencimiento de CoinsActualizar datosCopyright © Leal Colombia | Designed by Leal\\ue810\\ue82e\\ue807' metadata={'source': 'https://www.leal.co/usuarios', 'title': 'Usuarios Leal, puntos y Leal Coins', 'description': 'Los puntos puedes redimirlos por premios exclusivos en la marca en la que acumulas, los Leal Coins son universales y puedes usarlos en miles de marcas físicas u online que tenemos para ti.', 'language': 'No language found.'}\n"
     ]
    }
   ],
   "source": [
    "for doc in retrieved_documents:\n",
    "  print(doc)"
   ]
  },
  {
   "cell_type": "code",
   "execution_count": 12,
   "id": "ab66ab83",
   "metadata": {},
   "outputs": [],
   "source": [
    "# Creatin Prompt\n",
    "from langchain.prompts import ChatPromptTemplate\n",
    "\n",
    "template = \"\"\"Answer the question based only on the following context. If you cannot answer the question with the context, please respond with 'Redirigir...':\n",
    "Context:\n",
    "{context}\n",
    "Question:\n",
    "{question}\n",
    "\"\"\"\n",
    "\n",
    "prompt = ChatPromptTemplate.from_template(template)"
   ]
  },
  {
   "cell_type": "code",
   "execution_count": 13,
   "id": "166e5c8e",
   "metadata": {},
   "outputs": [],
   "source": [
    "from operator import itemgetter\n",
    "\n",
    "from langchain_openai import AzureChatOpenAI\n",
    "from langchain_core.output_parsers import StrOutputParser\n",
    "from langchain_core.runnables import RunnablePassthrough\n",
    "\n",
    "primary_qa_llm = AzureChatOpenAI(model_name=llm_model, temperature=0, api_version=\"2023-09-15-preview\", azure_endpoint=os.getenv('OPENAI_ENDPOINT'))\n",
    "\n",
    "retrieval_augmented_qa_chain = (\n",
    "    # INVOKE CHAIN WITH: {\"question\" : \"<<SOME USER QUESTION>>\"}\n",
    "    # \"question\" : populated by getting the value of the \"question\" key\n",
    "    # \"context\"  : populated by getting the value of the \"question\" key and chaining it into the base_retriever\n",
    "    {\"context\": itemgetter(\"question\") | retriever, \"question\": itemgetter(\"question\")}\n",
    "    # \"context\"  : is assigned to a RunnablePassthrough object (will not be called or considered in the next step)\n",
    "    #              by getting the value of the \"context\" key from the previous step\n",
    "    | RunnablePassthrough.assign(context=itemgetter(\"context\"))\n",
    "    # \"response\" : the \"context\" and \"question\" values are used to format our prompt object and then piped\n",
    "    #              into the LLM and stored in a key called \"response\"\n",
    "    # \"context\"  : populated by getting the value of the \"context\" key from the previous step\n",
    "    | {\"response\": prompt | primary_qa_llm, \"context\": itemgetter(\"context\")}\n",
    ")"
   ]
  },
  {
   "cell_type": "code",
   "execution_count": 14,
   "id": "70ee7245",
   "metadata": {},
   "outputs": [
    {
     "name": "stdout",
     "output_type": "stream",
     "text": [
      "Los Leal Coins son universales y puedes usarlos en miles de marcas físicas u online que tienen para ti.\n"
     ]
    }
   ],
   "source": [
    "question = \"Que son los Leal coins\"\n",
    "\n",
    "result = retrieval_augmented_qa_chain.invoke({\"question\" : question})\n",
    "\n",
    "print(result[\"response\"].content)"
   ]
  },
  {
   "cell_type": "code",
   "execution_count": 15,
   "id": "04ff5341",
   "metadata": {},
   "outputs": [
    {
     "name": "stderr",
     "output_type": "stream",
     "text": [
      "c:\\Users\\Julián Ríos\\Desktop\\Repository\\Machine Learning\\Thesis Model\\.venv_thesis\\Lib\\site-packages\\tqdm\\auto.py:21: TqdmWarning: IProgress not found. Please update jupyter and ipywidgets. See https://ipywidgets.readthedocs.io/en/stable/user_install.html\n",
      "  from .autonotebook import tqdm as notebook_tqdm\n",
      "Filename and doc_id are the same for all nodes.                 \n",
      "Generating: 100%|██████████| 10/10 [16:45<00:00, 100.52s/it]\n"
     ]
    }
   ],
   "source": [
    "# Create Test Data\n",
    "from langchain.document_loaders import DirectoryLoader\n",
    "from ragas.testset.generator import TestsetGenerator\n",
    "from ragas.testset.evolutions import simple, reasoning, multi_context\n",
    "\n",
    "generator = TestsetGenerator.from_langchain(generator_llm=primary_qa_llm,critic_llm=primary_qa_llm,embeddings=embeddings)\n",
    "testset = generator.generate_with_langchain_docs(documents, test_size=10, \n",
    "                                                 raise_exceptions=False, with_debugging_logs=False,\n",
    "                                                 distributions={simple: 0.5, reasoning: 0.25, multi_context: 0.25})   "
   ]
  },
  {
   "cell_type": "code",
   "execution_count": 16,
   "id": "55895214",
   "metadata": {},
   "outputs": [
    {
     "data": {
      "text/plain": [
       "DataRow(question='What can you use Leal Coins for in the Leal app?', contexts=['tu app Leal y entérate cuantos puntos te faltan para reclamar tu premio.¿Cuál es la diferencia entre puntos y Leal Coins?Los puntos puedes redimirlos por premios exclusivos en la marca en la que acumulas, los Leal Coins son universales y puedes usarlos en miles de marcas físicas u online que tenemos para ti.¿Dónde puedo usar mis Leal Coins?Usa tus Leal Coins para adquirir bonos de marcas como Mc Donalds, Crepes & Waffles o visita nuestros comercios Leal como Texaco, Buffalo Wings y úsalos para pagar. ¡Encuentra en nuestra app todas las opciones para usarlos!Actualiza tus datosMantén tus datos actualizados para reclamar tus premios y enterarte de todas nuestras ofertas.Házlo aquí¡Empieza a'], ground_truth='Leal Coins can be used to acquire bonuses from various brands and pay at Leal partner stores like Texaco and Buffalo Wings. They are universal and can be used in thousands of physical and online brands. The app provides all the options to use them.', evolution_type='simple', metadata=[{'source': 'https://www.leal.co/usuarios', 'title': 'Usuarios Leal, puntos y Leal Coins', 'description': 'Los puntos puedes redimirlos por premios exclusivos en la marca en la que acumulas, los Leal Coins son universales y puedes usarlos en miles de marcas físicas u online que tenemos para ti.', 'language': 'No language found.'}])"
      ]
     },
     "execution_count": 16,
     "metadata": {},
     "output_type": "execute_result"
    }
   ],
   "source": [
    "testset.test_data[1]"
   ]
  },
  {
   "cell_type": "code",
   "execution_count": 17,
   "id": "2e18f9c3",
   "metadata": {},
   "outputs": [
    {
     "data": {
      "text/html": [
       "<div>\n",
       "<style scoped>\n",
       "    .dataframe tbody tr th:only-of-type {\n",
       "        vertical-align: middle;\n",
       "    }\n",
       "\n",
       "    .dataframe tbody tr th {\n",
       "        vertical-align: top;\n",
       "    }\n",
       "\n",
       "    .dataframe thead th {\n",
       "        text-align: right;\n",
       "    }\n",
       "</style>\n",
       "<table border=\"1\" class=\"dataframe\">\n",
       "  <thead>\n",
       "    <tr style=\"text-align: right;\">\n",
       "      <th></th>\n",
       "      <th>question</th>\n",
       "      <th>contexts</th>\n",
       "      <th>ground_truth</th>\n",
       "      <th>evolution_type</th>\n",
       "      <th>metadata</th>\n",
       "      <th>episode_done</th>\n",
       "    </tr>\n",
       "  </thead>\n",
       "  <tbody>\n",
       "    <tr>\n",
       "      <th>0</th>\n",
       "      <td>What can you do with the points you accumulate...</td>\n",
       "      <td>[tu app Leal y entérate cuantos puntos te falt...</td>\n",
       "      <td>You can redeem the points you accumulate in th...</td>\n",
       "      <td>simple</td>\n",
       "      <td>[{'source': 'https://www.leal.co/usuarios', 't...</td>\n",
       "      <td>True</td>\n",
       "    </tr>\n",
       "    <tr>\n",
       "      <th>1</th>\n",
       "      <td>What can you use Leal Coins for in the Leal app?</td>\n",
       "      <td>[tu app Leal y entérate cuantos puntos te falt...</td>\n",
       "      <td>Leal Coins can be used to acquire bonuses from...</td>\n",
       "      <td>simple</td>\n",
       "      <td>[{'source': 'https://www.leal.co/usuarios', 't...</td>\n",
       "      <td>True</td>\n",
       "    </tr>\n",
       "    <tr>\n",
       "      <th>2</th>\n",
       "      <td>What can you do with the points you accumulate...</td>\n",
       "      <td>[tu app Leal y entérate cuantos puntos te falt...</td>\n",
       "      <td>You can redeem the points you accumulate in th...</td>\n",
       "      <td>simple</td>\n",
       "      <td>[{'source': 'https://www.leal.co/usuarios', 't...</td>\n",
       "      <td>True</td>\n",
       "    </tr>\n",
       "    <tr>\n",
       "      <th>3</th>\n",
       "      <td>What can you use Leal Coins for in the Leal app?</td>\n",
       "      <td>[tu app Leal y entérate cuantos puntos te falt...</td>\n",
       "      <td>Leal Coins can be used to acquire bonuses from...</td>\n",
       "      <td>simple</td>\n",
       "      <td>[{'source': 'https://www.leal.co/usuarios', 't...</td>\n",
       "      <td>True</td>\n",
       "    </tr>\n",
       "    <tr>\n",
       "      <th>4</th>\n",
       "      <td>What can you use Leal Coins for in the Leal app?</td>\n",
       "      <td>[tu app Leal y entérate cuantos puntos te falt...</td>\n",
       "      <td>Leal Coins can be used to acquire bonuses from...</td>\n",
       "      <td>simple</td>\n",
       "      <td>[{'source': 'https://www.leal.co/usuarios', 't...</td>\n",
       "      <td>True</td>\n",
       "    </tr>\n",
       "    <tr>\n",
       "      <th>5</th>\n",
       "      <td>What distinguishes points from Leal Coins in t...</td>\n",
       "      <td>[tu app Leal y entérate cuantos puntos te falt...</td>\n",
       "      <td>Points can be redeemed for exclusive rewards i...</td>\n",
       "      <td>reasoning</td>\n",
       "      <td>[{'source': 'https://www.leal.co/usuarios', 't...</td>\n",
       "      <td>True</td>\n",
       "    </tr>\n",
       "    <tr>\n",
       "      <th>6</th>\n",
       "      <td>What distinguishes points from Leal Coins in t...</td>\n",
       "      <td>[tu app Leal y entérate cuantos puntos te falt...</td>\n",
       "      <td>Points can be redeemed for exclusive rewards i...</td>\n",
       "      <td>reasoning</td>\n",
       "      <td>[{'source': 'https://www.leal.co/usuarios', 't...</td>\n",
       "      <td>True</td>\n",
       "    </tr>\n",
       "    <tr>\n",
       "      <th>7</th>\n",
       "      <td>What's the difference between Puntos and Leal ...</td>\n",
       "      <td>[tu app Leal y entérate cuantos puntos te falt...</td>\n",
       "      <td>Puntos can be redeemed for exclusive rewards f...</td>\n",
       "      <td>multi_context</td>\n",
       "      <td>[{'source': 'https://www.leal.co/usuarios', 't...</td>\n",
       "      <td>True</td>\n",
       "    </tr>\n",
       "    <tr>\n",
       "      <th>8</th>\n",
       "      <td>What's the difference between Puntos and Leal ...</td>\n",
       "      <td>[tu app Leal y entérate cuantos puntos te falt...</td>\n",
       "      <td>Puntos can be redeemed for exclusive rewards f...</td>\n",
       "      <td>multi_context</td>\n",
       "      <td>[{'source': 'https://www.leal.co/usuarios', 't...</td>\n",
       "      <td>True</td>\n",
       "    </tr>\n",
       "    <tr>\n",
       "      <th>9</th>\n",
       "      <td>What can you use Leal Coins for in the Leal app?</td>\n",
       "      <td>[tu app Leal y entérate cuantos puntos te falt...</td>\n",
       "      <td>Leal Coins can be used to acquire bonuses from...</td>\n",
       "      <td>simple</td>\n",
       "      <td>[{'source': 'https://www.leal.co/usuarios', 't...</td>\n",
       "      <td>True</td>\n",
       "    </tr>\n",
       "  </tbody>\n",
       "</table>\n",
       "</div>"
      ],
      "text/plain": [
       "                                            question  \\\n",
       "0  What can you do with the points you accumulate...   \n",
       "1   What can you use Leal Coins for in the Leal app?   \n",
       "2  What can you do with the points you accumulate...   \n",
       "3   What can you use Leal Coins for in the Leal app?   \n",
       "4   What can you use Leal Coins for in the Leal app?   \n",
       "5  What distinguishes points from Leal Coins in t...   \n",
       "6  What distinguishes points from Leal Coins in t...   \n",
       "7  What's the difference between Puntos and Leal ...   \n",
       "8  What's the difference between Puntos and Leal ...   \n",
       "9   What can you use Leal Coins for in the Leal app?   \n",
       "\n",
       "                                            contexts  \\\n",
       "0  [tu app Leal y entérate cuantos puntos te falt...   \n",
       "1  [tu app Leal y entérate cuantos puntos te falt...   \n",
       "2  [tu app Leal y entérate cuantos puntos te falt...   \n",
       "3  [tu app Leal y entérate cuantos puntos te falt...   \n",
       "4  [tu app Leal y entérate cuantos puntos te falt...   \n",
       "5  [tu app Leal y entérate cuantos puntos te falt...   \n",
       "6  [tu app Leal y entérate cuantos puntos te falt...   \n",
       "7  [tu app Leal y entérate cuantos puntos te falt...   \n",
       "8  [tu app Leal y entérate cuantos puntos te falt...   \n",
       "9  [tu app Leal y entérate cuantos puntos te falt...   \n",
       "\n",
       "                                        ground_truth evolution_type  \\\n",
       "0  You can redeem the points you accumulate in th...         simple   \n",
       "1  Leal Coins can be used to acquire bonuses from...         simple   \n",
       "2  You can redeem the points you accumulate in th...         simple   \n",
       "3  Leal Coins can be used to acquire bonuses from...         simple   \n",
       "4  Leal Coins can be used to acquire bonuses from...         simple   \n",
       "5  Points can be redeemed for exclusive rewards i...      reasoning   \n",
       "6  Points can be redeemed for exclusive rewards i...      reasoning   \n",
       "7  Puntos can be redeemed for exclusive rewards f...  multi_context   \n",
       "8  Puntos can be redeemed for exclusive rewards f...  multi_context   \n",
       "9  Leal Coins can be used to acquire bonuses from...         simple   \n",
       "\n",
       "                                            metadata  episode_done  \n",
       "0  [{'source': 'https://www.leal.co/usuarios', 't...          True  \n",
       "1  [{'source': 'https://www.leal.co/usuarios', 't...          True  \n",
       "2  [{'source': 'https://www.leal.co/usuarios', 't...          True  \n",
       "3  [{'source': 'https://www.leal.co/usuarios', 't...          True  \n",
       "4  [{'source': 'https://www.leal.co/usuarios', 't...          True  \n",
       "5  [{'source': 'https://www.leal.co/usuarios', 't...          True  \n",
       "6  [{'source': 'https://www.leal.co/usuarios', 't...          True  \n",
       "7  [{'source': 'https://www.leal.co/usuarios', 't...          True  \n",
       "8  [{'source': 'https://www.leal.co/usuarios', 't...          True  \n",
       "9  [{'source': 'https://www.leal.co/usuarios', 't...          True  "
      ]
     },
     "execution_count": 17,
     "metadata": {},
     "output_type": "execute_result"
    }
   ],
   "source": [
    "test_df = testset.to_pandas()\n",
    "test_df"
   ]
  },
  {
   "cell_type": "code",
   "execution_count": 18,
   "id": "b5896af4",
   "metadata": {},
   "outputs": [],
   "source": [
    "test_questions = test_df[\"question\"].values.tolist()\n",
    "test_groundtruths = test_df[\"ground_truth\"].values.tolist()"
   ]
  },
  {
   "cell_type": "code",
   "execution_count": 19,
   "id": "c0347373",
   "metadata": {},
   "outputs": [],
   "source": [
    "answers = []\n",
    "contexts = []\n",
    "\n",
    "for question in test_questions:\n",
    "  response = retrieval_augmented_qa_chain.invoke({\"question\" : question})\n",
    "  answers.append(response[\"response\"].content)\n",
    "  contexts.append([context.page_content for context in response[\"context\"]])"
   ]
  },
  {
   "cell_type": "code",
   "execution_count": 20,
   "id": "338ad0fd",
   "metadata": {},
   "outputs": [],
   "source": [
    "from datasets import Dataset\n",
    "\n",
    "response_dataset = Dataset.from_dict({\n",
    "    \"question\" : test_questions,\n",
    "    \"answer\" : answers,\n",
    "    \"contexts\" : contexts,\n",
    "    \"ground_truth\" : test_groundtruths\n",
    "})"
   ]
  },
  {
   "cell_type": "code",
   "execution_count": 22,
   "id": "a7b59900",
   "metadata": {},
   "outputs": [
    {
     "data": {
      "text/plain": [
       "{'question': 'What can you do with the points you accumulate in the Leal app?',\n",
       " 'answer': 'You can redeem the points for exclusive prizes in the brand where you accumulate them.',\n",
       " 'contexts': ['crédito Leal y gana cashback hasta de 5% con tus compras.¡Miles de opciones para que uses tus Leal Coins!Encuentra en nuestra app opciones desde $1.000 para disfrutar en las mejores marcas.Usa tus Leal Coins en nuestros comercios aliados mientras acumulas tus puntos.Preguntas FrecuentesResuelve tus dudas y empieza a ganar recompensas con tus compras usando Leal.¿Dónde puedo acumular puntos?Tenemos cientos de comercios donde puedes acumular puntos y redimirlos por premios increíbles. ¡Descarga Leal y descúbrelos!¿Cuáles son los premios que puedo reclamar?Tu marca favorita tiene una lista de premios que puedes redimir con tus puntos, conócela en tu app Leal y entérate cuantos puntos te faltan',\n",
       "  'tu app Leal y entérate cuantos puntos te faltan para reclamar tu premio.¿Cuál es la diferencia entre puntos y Leal Coins?Los puntos puedes redimirlos por premios exclusivos en la marca en la que acumulas, los Leal Coins son universales y puedes usarlos en miles de marcas físicas u online que tenemos para ti.¿Dónde puedo usar mis Leal Coins?Usa tus Leal Coins para adquirir bonos de marcas como Mc Donalds, Crepes & Waffles o visita nuestros comercios Leal como Texaco, Buffalo Wings y úsalos para pagar. ¡Encuentra en nuestra app todas las opciones para usarlos!Actualiza tus datosMantén tus datos actualizados para reclamar tus premios y enterarte de todas nuestras ofertas.Házlo aquí¡Empieza a',\n",
       "  'InicioUsuariosComerciosNosotrosResource Link 1Resource Link 2Resource Link 3Descarga la appCon Leal tus compras siempre te dan másEncuentra en nuestra app la forma de ganar recompensas con tus compras en tiendas físicas y virtuales.¡Tus puntos se convierten en premios!CONOCE MÁS1. Conoce y visita los comercios de lared Leal.2. Compra y comparte tu número de documento para acumular tus puntos.3. Cuando tengas los puntos suficientes, redímelos por premios.Tus compras con cashback en Leal Coins ¡Siempre!CONOCE MÁS1. Compra en tiendas online a través de Leal y gana.2. Encuentra ofertas exclusivas en nuestra app Leal.3. Solicita tu tarjeta de crédito Leal y gana cashback hasta de 5% con tus',\n",
       "  'Usuarios Leal, puntos y Leal Coins'],\n",
       " 'ground_truth': 'You can redeem the points you accumulate in the Leal app for exclusive rewards in the brand where you accumulate them.'}"
      ]
     },
     "execution_count": 22,
     "metadata": {},
     "output_type": "execute_result"
    }
   ],
   "source": [
    "response_dataset[0]"
   ]
  },
  {
   "cell_type": "markdown",
   "id": "e27d51c9",
   "metadata": {},
   "source": []
  },
  {
   "cell_type": "code",
   "execution_count": null,
   "id": "7fd56f29",
   "metadata": {},
   "outputs": [],
   "source": [
    "from ragas import evaluate\n",
    "from ragas.metrics import (\n",
    "    faithfulness,\n",
    "    answer_relevancy,\n",
    "    answer_correctness,\n",
    "    context_recall,\n",
    "    context_precision,\n",
    ")\n",
    "\n",
    "metrics = [\n",
    "    faithfulness,\n",
    "    answer_relevancy,\n",
    "    context_recall,\n",
    "    context_precision,\n",
    "    answer_correctness,\n",
    "]"
   ]
  },
  {
   "cell_type": "code",
   "execution_count": null,
   "id": "ed93cfba",
   "metadata": {},
   "outputs": [],
   "source": [
    "results = evaluate(response_dataset, metrics)"
   ]
  },
  {
   "cell_type": "code",
   "execution_count": 21,
   "id": "164c0dd4",
   "metadata": {},
   "outputs": [
    {
     "ename": "NameError",
     "evalue": "name 'results' is not defined",
     "output_type": "error",
     "traceback": [
      "\u001b[1;31m---------------------------------------------------------------------------\u001b[0m",
      "\u001b[1;31mNameError\u001b[0m                                 Traceback (most recent call last)",
      "Cell \u001b[1;32mIn[21], line 1\u001b[0m\n\u001b[1;32m----> 1\u001b[0m results_df \u001b[38;5;241m=\u001b[39m \u001b[43mresults\u001b[49m\u001b[38;5;241m.\u001b[39mto_pandas()\n\u001b[0;32m      2\u001b[0m results_df\n",
      "\u001b[1;31mNameError\u001b[0m: name 'results' is not defined"
     ]
    }
   ],
   "source": [
    "results_df = results.to_pandas()\n",
    "results_df"
   ]
  },
  {
   "cell_type": "markdown",
   "id": "291132f8",
   "metadata": {},
   "source": [
    "## Better implementation"
   ]
  },
  {
   "cell_type": "code",
   "execution_count": null,
   "id": "9054a3d5",
   "metadata": {},
   "outputs": [],
   "source": [
    "from langchain.retrievers import MultiQueryRetriever\n",
    "advanced_retriever = MultiQueryRetriever.from_llm(retriever=retriever, llm=primary_qa_llm)"
   ]
  },
  {
   "cell_type": "code",
   "execution_count": 48,
   "id": "0e2f2594",
   "metadata": {},
   "outputs": [],
   "source": [
    "from ragas.metrics import (\n",
    "    context_precision,\n",
    "    answer_relevancy,\n",
    "    faithfulness,\n",
    "    context_recall,\n",
    ")\n",
    "from ragas.metrics.critique import harmfulness\n",
    "\n",
    "# list of metrics we're going to use\n",
    "metrics = [\n",
    "    faithfulness,\n",
    "    answer_relevancy,\n",
    "    context_recall,\n",
    "    context_precision,\n",
    "    harmfulness,\n",
    "]"
   ]
  },
  {
   "cell_type": "code",
   "execution_count": null,
   "id": "8e243ccc",
   "metadata": {},
   "outputs": [],
   "source": []
  },
  {
   "cell_type": "code",
   "execution_count": 44,
   "id": "6b4745b5",
   "metadata": {},
   "outputs": [
    {
     "ename": "IndexError",
     "evalue": "Cannot choose from an empty sequence",
     "output_type": "error",
     "traceback": [
      "\u001b[1;31m---------------------------------------------------------------------------\u001b[0m",
      "\u001b[1;31mIndexError\u001b[0m                                Traceback (most recent call last)",
      "Cell \u001b[1;32mIn[44], line 70\u001b[0m\n\u001b[0;32m     67\u001b[0m     current_prompt \u001b[38;5;241m+\u001b[39m\u001b[38;5;241m=\u001b[39m \u001b[38;5;241m1\u001b[39m\n\u001b[0;32m     69\u001b[0m \u001b[38;5;66;03m# Example usage\u001b[39;00m\n\u001b[1;32m---> 70\u001b[0m \u001b[43mchatbot_response\u001b[49m\u001b[43m(\u001b[49m\u001b[38;5;124;43m\"\u001b[39;49m\u001b[38;5;124;43mI\u001b[39;49m\u001b[38;5;124;43m'\u001b[39;49m\u001b[38;5;124;43mm having trouble logging in.\u001b[39;49m\u001b[38;5;124;43m\"\u001b[39;49m\u001b[43m)\u001b[49m\n",
      "Cell \u001b[1;32mIn[44], line 62\u001b[0m, in \u001b[0;36mchatbot_response\u001b[1;34m(user_query, chatbot_name, company_name)\u001b[0m\n\u001b[0;32m     60\u001b[0m prompt \u001b[38;5;241m=\u001b[39m prompts[current_prompt]\n\u001b[0;32m     61\u001b[0m \u001b[38;5;28;01mif\u001b[39;00m prompt\u001b[38;5;241m.\u001b[39mget(\u001b[38;5;124m\"\u001b[39m\u001b[38;5;124mUSER_QUERY\u001b[39m\u001b[38;5;124m\"\u001b[39m) \u001b[38;5;129;01mis\u001b[39;00m \u001b[38;5;28;01mNone\u001b[39;00m \u001b[38;5;129;01mor\u001b[39;00m prompt\u001b[38;5;241m.\u001b[39mget(\u001b[38;5;124m\"\u001b[39m\u001b[38;5;124mUSER_QUERY\u001b[39m\u001b[38;5;124m\"\u001b[39m) \u001b[38;5;241m==\u001b[39m user_query:\n\u001b[1;32m---> 62\u001b[0m   response \u001b[38;5;241m=\u001b[39m \u001b[43mrandom\u001b[49m\u001b[38;5;241;43m.\u001b[39;49m\u001b[43mchoice\u001b[49m\u001b[43m(\u001b[49m\u001b[43m[\u001b[49m\u001b[43mprompt\u001b[49m\u001b[38;5;241;43m.\u001b[39;49m\u001b[43mget\u001b[49m\u001b[43m(\u001b[49m\u001b[38;5;124;43mf\u001b[39;49m\u001b[38;5;124;43m\"\u001b[39;49m\u001b[38;5;124;43mRESPONSE \u001b[39;49m\u001b[38;5;132;43;01m{\u001b[39;49;00m\u001b[43mchar\u001b[49m\u001b[38;5;132;43;01m}\u001b[39;49;00m\u001b[38;5;124;43m\"\u001b[39;49m\u001b[43m)\u001b[49m\u001b[43m \u001b[49m\u001b[38;5;28;43;01mfor\u001b[39;49;00m\u001b[43m \u001b[49m\u001b[43mchar\u001b[49m\u001b[43m \u001b[49m\u001b[38;5;129;43;01min\u001b[39;49;00m\u001b[43m \u001b[49m\u001b[38;5;124;43m\"\u001b[39;49m\u001b[38;5;124;43mABC\u001b[39;49m\u001b[38;5;124;43m\"\u001b[39;49m\u001b[43m \u001b[49m\u001b[38;5;28;43;01mif\u001b[39;49;00m\u001b[43m \u001b[49m\u001b[43mprompt\u001b[49m\u001b[38;5;241;43m.\u001b[39;49m\u001b[43mget\u001b[49m\u001b[43m(\u001b[49m\u001b[38;5;124;43mf\u001b[39;49m\u001b[38;5;124;43m\"\u001b[39;49m\u001b[38;5;124;43mRESPONSE \u001b[39;49m\u001b[38;5;132;43;01m{\u001b[39;49;00m\u001b[43mchar\u001b[49m\u001b[38;5;132;43;01m}\u001b[39;49;00m\u001b[38;5;124;43m\"\u001b[39;49m\u001b[43m)\u001b[49m\u001b[38;5;241;43m==\u001b[39;49m\u001b[38;5;124;43m\"\u001b[39;49m\u001b[38;5;124;43m\"\u001b[39;49m\u001b[43m]\u001b[49m\u001b[43m)\u001b[49m\n\u001b[0;32m     63\u001b[0m   \u001b[38;5;28;01mif\u001b[39;00m response:\n\u001b[0;32m     64\u001b[0m     \u001b[38;5;28mprint\u001b[39m(response)\n",
      "File \u001b[1;32m~\\AppData\\Local\\Programs\\Python\\Python312\\Lib\\random.py:347\u001b[0m, in \u001b[0;36mRandom.choice\u001b[1;34m(self, seq)\u001b[0m\n\u001b[0;32m    344\u001b[0m \u001b[38;5;66;03m# As an accommodation for NumPy, we don't use \"if not seq\"\u001b[39;00m\n\u001b[0;32m    345\u001b[0m \u001b[38;5;66;03m# because bool(numpy.array()) raises a ValueError.\u001b[39;00m\n\u001b[0;32m    346\u001b[0m \u001b[38;5;28;01mif\u001b[39;00m \u001b[38;5;129;01mnot\u001b[39;00m \u001b[38;5;28mlen\u001b[39m(seq):\n\u001b[1;32m--> 347\u001b[0m     \u001b[38;5;28;01mraise\u001b[39;00m \u001b[38;5;167;01mIndexError\u001b[39;00m(\u001b[38;5;124m'\u001b[39m\u001b[38;5;124mCannot choose from an empty sequence\u001b[39m\u001b[38;5;124m'\u001b[39m)\n\u001b[0;32m    348\u001b[0m \u001b[38;5;28;01mreturn\u001b[39;00m seq[\u001b[38;5;28mself\u001b[39m\u001b[38;5;241m.\u001b[39m_randbelow(\u001b[38;5;28mlen\u001b[39m(seq))]\n",
      "\u001b[1;31mIndexError\u001b[0m: Cannot choose from an empty sequence"
     ]
    }
   ],
   "source": [
    "import random\n",
    "def chatbot_response(user_query, chatbot_name=\"Le A.I\", company_name=\"Leal\"):\n",
    "  \"\"\"\n",
    "  This function simulates a friendly customer service chatbot conversation.\n",
    "\n",
    "  Args:\n",
    "      user_query: The user's question or input.\n",
    "      chatbot_name: The name of the chatbot\n",
    "      company_name: The name of your company\n",
    "\n",
    "  Returns:\n",
    "      A string representing the chatbot's response.\n",
    "  \"\"\"\n",
    "  # Define conversation flow\n",
    "  prompts = [\n",
    "      {\n",
    "          \"START_SEQ\": True,\n",
    "          \"USER_QUERY\": None,\n",
    "          \"RESPONSE A\": f\"Hi there! I'm {chatbot_name}, your friendly customer service assistant for {company_name}. How can I help you today?\",\n",
    "          \"RESPONSE B\": f\"Great to see you! Is there anything I can assist you with on this day?\"\n",
    "      },\n",
    "      {\n",
    "          \"USER_QUERY\": None,\n",
    "          \"RESPONSE A\": f\"I understand you're having trouble with {user_query}. Let's see what we can do to fix that.\",\n",
    "          \"RESPONSE B\": f\"It sounds like you're looking for information about {user_query}. I'm happy to help you find what you need.\"\n",
    "      },\n",
    "      {\n",
    "          \"USER_QUERY\": None,\n",
    "          \"RESPONSE A\": \"Here are a few things you can try: [List your solutions here]. Let me know if any of these work!\",\n",
    "          \"RESPONSE B\": f\"I can definitely walk you through the steps for {user_query}. Would you like me to do that?\",\n",
    "          \"RESPONSE C\": f\"No problem! I've found some helpful resources on {user_query} that you might find useful: [List your resources here].\"\n",
    "      },\n",
    "      {\n",
    "          \"USER_QUERY\": None,\n",
    "          \"RESPONSE A\": \"No worries at all! We'll get this figured out together.\",\n",
    "          \"RESPONSE B\": \"That's a great question! Let me see if I can find an answer for you.\",\n",
    "          \"RESPONSE C\": f\"I apologize for any inconvenience this may have caused. Is there anything else I can do to assist you today?\"\n",
    "      },\n",
    "      {\n",
    "          \"USER_QUERY\": None,\n",
    "          \"RESPONSE A\": \"If the issue seems complex, you can offer to connect the user to a human agent.\",\n",
    "          \"RESPONSE B\": f\"It seems like your situation might require a bit more personalized attention. Would you like me to connect you with one of our customer service representatives?\"\n",
    "      },\n",
    "      {\n",
    "          \"USER_QUERY\": None,\n",
    "          \"RESPONSE A\": \"I hope this information was helpful! Is there anything else I can help you with today?\",\n",
    "          \"RESPONSE B\": \"Glad I could be of assistance! Have a wonderful {day.name}!\"\n",
    "      },\n",
    "      {\n",
    "          \"END_SEQ\": True,\n",
    "          \"USER_QUERY\": None,\n",
    "          \"RESPONSE A\": None,\n",
    "          \"RESPONSE B\": None\n",
    "      }\n",
    "  ]\n",
    "\n",
    "  # Loop through conversation prompts\n",
    "  current_prompt = 0\n",
    "  while current_prompt < len(prompts):\n",
    "    prompt = prompts[current_prompt]\n",
    "    if prompt.get(\"USER_QUERY\") is None or prompt.get(\"USER_QUERY\") == user_query:\n",
    "      response = random.choice([prompt.get(f\"RESPONSE {char}\") for char in \"ABC\" if prompt.get(f\"RESPONSE {char}\")==\"\"])\n",
    "      if response:\n",
    "        print(response)\n",
    "      if prompt.get(\"END_SEQ\"):\n",
    "        break\n",
    "    current_prompt += 1\n",
    "\n",
    "# Example usage\n",
    "chatbot_response(\"I'm having trouble logging in.\")"
   ]
  },
  {
   "cell_type": "code",
   "execution_count": null,
   "id": "2d695e41",
   "metadata": {},
   "outputs": [],
   "source": []
  }
 ],
 "metadata": {
  "kernelspec": {
   "display_name": "Python 3 (ipykernel)",
   "language": "python",
   "name": "python3"
  },
  "language_info": {
   "codemirror_mode": {
    "name": "ipython",
    "version": 3
   },
   "file_extension": ".py",
   "mimetype": "text/x-python",
   "name": "python",
   "nbconvert_exporter": "python",
   "pygments_lexer": "ipython3",
   "version": "3.12.2"
  }
 },
 "nbformat": 4,
 "nbformat_minor": 5
}
