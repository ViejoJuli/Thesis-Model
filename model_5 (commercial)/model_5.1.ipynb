{
 "cells": [
  {
   "cell_type": "markdown",
   "id": "5d29f764",
   "metadata": {},
   "source": [
    "# Regenerative Augmented Model\n",
    "* Ready with Azure own credentials\n"
   ]
  },
  {
   "cell_type": "code",
   "execution_count": null,
   "id": "1ffb06c6",
   "metadata": {},
   "outputs": [],
   "source": [
    "# Optional packages\n",
    "'''\n",
    "!pip install langchain-openai\n",
    "!pip install openai --updgrade\n",
    "!pip install --force-reinstall -v \"openai==0.28\"\n",
    "!pip install openai==0.28\n",
    "\n",
    "# Useful Resources\n",
    "from langchain_openai import OpenAIEmbeddings # For embbedings\n",
    "from langchain_text_splitters import CharacterTextSplitter # For tokens\n",
    "\n",
    "'''"
   ]
  },
  {
   "cell_type": "code",
   "execution_count": 1,
   "id": "3009f2f8",
   "metadata": {},
   "outputs": [
    {
     "name": "stdout",
     "output_type": "stream",
     "text": [
      "https://thesisinstance.openai.azure.com/ 0d42c88757464b56831721d1c47e16ab 2023-09-15-preview azure gpt-35-turbo-jdrios\n"
     ]
    }
   ],
   "source": [
    "# Step 1: Configure needed parameters\n",
    "import os\n",
    "import openai\n",
    "from langchain.chains.conversation.memory import ConversationBufferMemory, ConversationSummaryMemory, ConversationSummaryBufferMemory, ConversationKGMemory, ConversationEntityMemory\n",
    "from langchain.chains import ConversationChain\n",
    "from langchain.prompts.prompt import PromptTemplate\n",
    "from langchain.chat_models import ChatOpenAI\n",
    "\n",
    "from dotenv import find_dotenv, load_dotenv\n",
    "\n",
    "load_dotenv(find_dotenv())\n",
    "\n",
    "openai.api_type = \"azure\"\n",
    "\n",
    "\n",
    "# # For University Credentials\n",
    "\n",
    "# openai.api_base = os.getenv(\"OPENAI_ENDPOINT\") \n",
    "# openai.api_key = os.getenv(\"OPENAI_API_KEY\")\n",
    "# openai.api_version = \"2023-05-15\"\n",
    "# llm_model = 'gpt-35-turbo-rfmanrique'\n",
    "# # llm = 'gpt-35-turbo-16k-rfmanrique'\n",
    "# # llm_embedding = 'text-embedding-ada-002-rfmanrique'\n",
    "\n",
    "\n",
    "# My credentials\n",
    "\n",
    "openai.api_base = os.getenv('OPENAI_ENDPOINT')\n",
    "openai.api_key = os.getenv('OPENAI_API_KEY')\n",
    "openai.api_version = \"2023-09-15-preview\"\n",
    "llm_model = 'gpt-35-turbo-jdrios'\n",
    "\n",
    "youtube_video = 'https://www.youtube.com/watch?v=BrsocJb-fAo'\n",
    "# print(openai.api_base, openai.api_key, openai.api_version, openai.api_type, llm_model)"
   ]
  },
  {
   "cell_type": "code",
   "execution_count": 5,
   "id": "8a9ef74f",
   "metadata": {},
   "outputs": [],
   "source": [
    "# Step 2: Define the model\n",
    "llm = ChatOpenAI(temperature = 0, engine= llm_model) # Temperature = 0 means less randomness"
   ]
  },
  {
   "cell_type": "code",
   "execution_count": 6,
   "id": "4b9277c6",
   "metadata": {},
   "outputs": [],
   "source": [
    "# Memory Management - Buffer Memory\n",
    "memory = ConversationBufferMemory()\n",
    "conversation_1 = ConversationChain(llm = llm,\n",
    "                                 verbose = False,\n",
    "                                 memory = memory)"
   ]
  },
  {
   "cell_type": "code",
   "execution_count": 7,
   "id": "69984164",
   "metadata": {},
   "outputs": [
    {
     "data": {
      "text/plain": [
       "\"Hello Julian! It's nice to meet you. I am an AI language model designed to have conversations with humans. How can I assist you today?\""
      ]
     },
     "execution_count": 7,
     "metadata": {},
     "output_type": "execute_result"
    }
   ],
   "source": [
    "conversation_1.predict(input=\"Hi there! I'm Julian\")"
   ]
  },
  {
   "cell_type": "code",
   "execution_count": 14,
   "id": "8d007072",
   "metadata": {},
   "outputs": [],
   "source": [
    "from langchain.prompts import ChatPromptTemplate\n",
    "template = \"\"\"\n",
    "You are a IA Chatbot that interacts with an human who needs a request.\n",
    "Answer the queries that the human does.\n",
    "\n",
    "Context:{context}\n",
    "Query:{query}\n",
    "\"\"\"\n",
    "prompt = PromptTemplate(\n",
    "    input_variables = [\"context\", \"query\"], template = template)"
   ]
  },
  {
   "cell_type": "code",
   "execution_count": null,
   "id": "ecaf65a4",
   "metadata": {},
   "outputs": [],
   "source": []
  }
 ],
 "metadata": {
  "kernelspec": {
   "display_name": "Python 3 (ipykernel)",
   "language": "python",
   "name": "python3"
  },
  "language_info": {
   "codemirror_mode": {
    "name": "ipython",
    "version": 3
   },
   "file_extension": ".py",
   "mimetype": "text/x-python",
   "name": "python",
   "nbconvert_exporter": "python",
   "pygments_lexer": "ipython3",
   "version": "3.9.7"
  }
 },
 "nbformat": 4,
 "nbformat_minor": 5
}
