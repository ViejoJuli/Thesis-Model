{
 "cells": [
  {
   "cell_type": "code",
   "execution_count": 47,
   "id": "3009f2f8",
   "metadata": {},
   "outputs": [],
   "source": [
    "import os\n",
    "import openai\n",
    "    \n",
    "from dotenv import load_dotenv, find_dotenv\n",
    "_ = load_dotenv(find_dotenv()) # read local .env file\n",
    "openai.api_key = os.environ['OPENAI_API_KEY']"
   ]
  },
  {
   "cell_type": "code",
   "execution_count": 2,
   "id": "272826ab",
   "metadata": {},
   "outputs": [],
   "source": [
    "# account for deprecation of LLM model\n",
    "import datetime\n",
    "# Get the current date\n",
    "current_date = datetime.datetime.now().date()\n",
    "\n",
    "# Define the date after which the model should be set to \"gpt-3.5-turbo\"\n",
    "target_date = datetime.date(2024, 6, 12)\n",
    "\n",
    "# Set the model variable based on the current date\n",
    "if current_date > target_date:\n",
    "    llm_model = \"gpt-3.5-turbo\"\n",
    "else:\n",
    "    llm_model = \"gpt-3.5-turbo-0301\""
   ]
  },
  {
   "cell_type": "code",
   "execution_count": 3,
   "id": "9d1c90ad",
   "metadata": {},
   "outputs": [],
   "source": [
    "def get_completion(prompt, model=llm_model):\n",
    "    messages = [{\"role\": \"user\", \"content\": prompt}]\n",
    "    response = openai.ChatCompletion.create(\n",
    "        model=model,\n",
    "        messages=messages,\n",
    "        temperature=0, \n",
    "    )\n",
    "    return response.choices[0].message[\"content\"]"
   ]
  },
  {
   "cell_type": "code",
   "execution_count": 4,
   "id": "d697cdf8",
   "metadata": {},
   "outputs": [],
   "source": [
    "# Templates\n",
    "customer_message = \"\"\" Me podrían indicar por favor cual es el horario \\\n",
    "    de atención de la IPS Cuidarte? Necesito sacar una cita \\\n",
    "    con medico general\n",
    "\"\"\"\n",
    "style = \"\"\" Colombian spanish \\\n",
    "    with respectful calm tone\n",
    "\"\"\"\n",
    "prompt = \"\"\" Translate the text \\\n",
    "    into a style that is {style}, \\\n",
    "    text: {text}\n",
    "\"\"\"\n",
    "prompt1 = \"\"\" From the given text, extract the following information: \\\n",
    "    company = The company of the request \\\n",
    "    type = The kind of appoitment \\\n",
    "    \n",
    "    Format the output as JSON with following the next keys:\n",
    "    company\n",
    "    type\n",
    "    text: {text}\n",
    "    \"\"\""
   ]
  },
  {
   "cell_type": "code",
   "execution_count": 5,
   "id": "9be78c54",
   "metadata": {},
   "outputs": [],
   "source": [
    "from langchain.chat_models import ChatOpenAI\n",
    "from langchain.prompts import ChatPromptTemplate"
   ]
  },
  {
   "cell_type": "code",
   "execution_count": 6,
   "id": "f9a1fefa",
   "metadata": {},
   "outputs": [],
   "source": [
    "chat = ChatOpenAI(temperature = 0) # Temperature = 0 means less randomness\n",
    "prompt_template = ChatPromptTemplate.from_template(prompt)\n",
    "\n",
    "# Look for template inputs\n",
    "prompt_template.messages[0].prompt.input_variables\n",
    "\n",
    "#Assigning input variables\n",
    "customer_messages = prompt_template.format_messages(style=style, text=customer_message)"
   ]
  },
  {
   "cell_type": "code",
   "execution_count": 7,
   "id": "bdf188d3",
   "metadata": {},
   "outputs": [
    {
     "name": "stdout",
     "output_type": "stream",
     "text": [
      "content=' Translate the text     into a style that is  Colombian spanish     with respectful calm tone\\n,     text:  Me podrían indicar por favor cual es el horario     de atención de la IPS Cuidarte? Necesito sacar una cita     con medico general\\n\\n' additional_kwargs={} example=False\n"
     ]
    }
   ],
   "source": [
    "print(customer_messages[0])"
   ]
  },
  {
   "cell_type": "code",
   "execution_count": 8,
   "id": "8eab0195",
   "metadata": {},
   "outputs": [
    {
     "name": "stdout",
     "output_type": "stream",
     "text": [
      "¿Podrían por favor informarme cuál es el horario de atención de la IPS Cuidarte? Necesito agendar una cita con el médico general.\n"
     ]
    }
   ],
   "source": [
    "customer_response = chat(customer_messages)\n",
    "print(customer_response.content)"
   ]
  },
  {
   "cell_type": "code",
   "execution_count": 9,
   "id": "9df8e621",
   "metadata": {},
   "outputs": [
    {
     "name": "stdout",
     "output_type": "stream",
     "text": [
      "{\n",
      "  \"company\": \"IPS Cuidarte\",\n",
      "  \"type\": \"medico general\"\n",
      "}\n"
     ]
    }
   ],
   "source": [
    "# Retrive information from a message\n",
    "prompt_template = ChatPromptTemplate.from_template(prompt1)\n",
    "\n",
    "#Assigning input variables\n",
    "customer_messages = prompt_template.format_messages(text=customer_message)\n",
    "customer_response = chat(customer_messages)\n",
    "print(customer_response.content)"
   ]
  },
  {
   "cell_type": "code",
   "execution_count": 28,
   "id": "6baf267a",
   "metadata": {},
   "outputs": [],
   "source": [
    "# Defining an output schema\n",
    "from langchain.output_parsers import ResponseSchema\n",
    "from langchain.output_parsers import StructuredOutputParser\n",
    "\n",
    "company_schema = ResponseSchema(name = \"company\", description=\"The company of the request\")\n",
    "type_schema = ResponseSchema(name = \"type\", description=\"The kind of the appointment\")\n",
    "\n",
    "response_schema = [company_schema, type_schema]\n",
    "output_parser = StructuredOutputParser.from_response_schemas(response_schema)"
   ]
  },
  {
   "cell_type": "code",
   "execution_count": 34,
   "id": "1d4d468a",
   "metadata": {},
   "outputs": [
    {
     "name": "stdout",
     "output_type": "stream",
     "text": [
      "\n",
      "```json\n",
      "{\n",
      "\t\"company\": string  // The company of the request\n",
      "\t\"type\": string  // The kind of the appointment\n",
      "}\n",
      "\n"
     ]
    }
   ],
   "source": [
    "format_instructions = output_parser.get_format_instructions(response_schema)\n",
    "print(format_instructions)"
   ]
  },
  {
   "cell_type": "code",
   "execution_count": 42,
   "id": "477e1cf6",
   "metadata": {},
   "outputs": [],
   "source": [
    "prompt2 = \"\"\"\\\n",
    "For the following text, extract the following information:\n",
    "\n",
    "company: The company of the request \\\n",
    "If this information is not found, output -1.\n",
    "\n",
    "type: The kind of appoitment\\\n",
    "If this information is not found, output -1,\\\n",
    "\n",
    "and output them as a comma separated Python list.\n",
    "\n",
    "text: {text}\n",
    "\n",
    "{format_instructions}\n",
    "\"\"\""
   ]
  },
  {
   "cell_type": "code",
   "execution_count": 43,
   "id": "2938d051",
   "metadata": {},
   "outputs": [
    {
     "name": "stdout",
     "output_type": "stream",
     "text": [
      "For the following text, extract the following information:\n",
      "\n",
      "company: The company of the request If this information is not found, output -1.\n",
      "\n",
      "type: The kind of appoitmentIf this information is not found, output -1,\n",
      "and output them as a comma separated Python list.\n",
      "\n",
      "text:  Me podrían indicar por favor cual es el horario     de atención de la IPS Cuidarte? Necesito sacar una cita     con medico general\n",
      "\n",
      "\n",
      "\n",
      "```json\n",
      "{\n",
      "\t\"company\": string  // The company of the request\n",
      "\t\"type\": string  // The kind of the appointment\n",
      "}\n",
      "\n",
      "\n"
     ]
    }
   ],
   "source": [
    "prompt_template = ChatPromptTemplate.from_template(prompt2)\n",
    "\n",
    "#Assigning input variables\n",
    "messages = prompt_template.format_messages(text=customer_message, \n",
    "                                format_instructions=format_instructions)\n",
    "print(messages[0].content)\n"
   ]
  },
  {
   "cell_type": "code",
   "execution_count": 44,
   "id": "77b8bf1e",
   "metadata": {},
   "outputs": [
    {
     "name": "stdout",
     "output_type": "stream",
     "text": [
      "{\n",
      "    \"company\": \"IPS Cuidarte\",\n",
      "    \"type\": \"medico general\"\n",
      "}\n"
     ]
    }
   ],
   "source": [
    "response = chat(messages)\n",
    "print(response.content)"
   ]
  },
  {
   "cell_type": "code",
   "execution_count": 45,
   "id": "edcd96ba",
   "metadata": {},
   "outputs": [
    {
     "name": "stdout",
     "output_type": "stream",
     "text": [
      "dict is {'company': 'IPS Cuidarte', 'type': 'medico general'}\n"
     ]
    }
   ],
   "source": [
    "output_dict = output_parser.parse(response.content)\n",
    "print(f\"dict is {output_dict}\")"
   ]
  }
 ],
 "metadata": {
  "kernelspec": {
   "display_name": "Python 3 (ipykernel)",
   "language": "python",
   "name": "python3"
  },
  "language_info": {
   "codemirror_mode": {
    "name": "ipython",
    "version": 3
   },
   "file_extension": ".py",
   "mimetype": "text/x-python",
   "name": "python",
   "nbconvert_exporter": "python",
   "pygments_lexer": "ipython3",
   "version": "3.9.7"
  }
 },
 "nbformat": 4,
 "nbformat_minor": 5
}
